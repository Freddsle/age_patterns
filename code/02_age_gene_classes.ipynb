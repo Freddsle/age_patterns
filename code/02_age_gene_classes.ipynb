{
 "cells": [
  {
   "cell_type": "code",
   "execution_count": 2,
   "id": "f6a84924",
   "metadata": {},
   "outputs": [],
   "source": [
    "import networkx as nx\n",
    "import igraph\n",
    "import pandas as pd\n",
    "import pylab as plt"
   ]
  },
  {
   "cell_type": "markdown",
   "id": "715e1d8d",
   "metadata": {},
   "source": [
    "# age gene classes из Liebeskind\n",
    "\n",
    "Скачать [age gene classes](https://github.com/marcottelab/Gene-Ages) из Liebeskind et. al. 2016, и замапить их на наши сети.\\"
   ]
  },
  {
   "cell_type": "code",
   "execution_count": 8,
   "id": "54dd22cd",
   "metadata": {},
   "outputs": [
    {
     "name": "stdout",
     "output_type": "stream",
     "text": [
      "(12873, 2)\n",
      "# of edges: 12864\n",
      "# of nodes: 4441\n"
     ]
    }
   ],
   "source": [
    "yeast_data = pd.read_csv('../data/yeast.txt', sep='\\t')\n",
    "print(yeast_data.shape)\n",
    "\n",
    "yeast_graph = nx.from_pandas_edgelist(yeast_data, source='Tf', target='Tg')\n",
    "\n",
    "print('# of edges: {}'.format(yeast_graph.number_of_edges()))\n",
    "print('# of nodes: {}'.format(yeast_graph.number_of_nodes()))"
   ]
  },
  {
   "cell_type": "code",
   "execution_count": 7,
   "id": "c3cc0520",
   "metadata": {},
   "outputs": [
    {
     "name": "stdout",
     "output_type": "stream",
     "text": [
      "(7057, 4)\n",
      "# of edges: 6490\n",
      "# of nodes: 2456\n"
     ]
    }
   ],
   "source": [
    "mouse_data = pd.read_csv('../data/trrust_rawdata.mouse.tsv', \n",
    "                         sep='\\t', header=None, \n",
    "                         names=['TF', 'Target', 'Mode', 'PMID'])\n",
    "print(mouse_data.shape)\n",
    "\n",
    "mouse_graph = nx.from_pandas_edgelist(mouse_data, 'TF', 'Target', ['Mode', 'PMID'], create_using=nx.DiGraph())\n",
    "print('# of edges: {}'.format(mouse_graph.number_of_edges()))\n",
    "print('# of nodes: {}'.format(mouse_graph.number_of_nodes()))"
   ]
  },
  {
   "cell_type": "code",
   "execution_count": 6,
   "id": "3f152ea8",
   "metadata": {},
   "outputs": [
    {
     "name": "stdout",
     "output_type": "stream",
     "text": [
      "(9396, 4)\n",
      "# of edges: 8427\n",
      "# of nodes: 2862\n"
     ]
    }
   ],
   "source": [
    "human_data = pd.read_csv('../data/trrust_rawdata.human.tsv', \n",
    "                         sep='\\t', header=None, \n",
    "                         names=['TF', 'Target', 'Mode', 'PMID'])\n",
    "print(human_data.shape)\n",
    "\n",
    "human_graph = nx.from_pandas_edgelist(human_data, 'TF', 'Target', ['Mode', 'PMID'], create_using=nx.DiGraph())\n",
    "\n",
    "print('# of edges: {}'.format(human_graph.number_of_edges()))\n",
    "print('# of nodes: {}'.format(human_graph.number_of_nodes()))"
   ]
  },
  {
   "cell_type": "code",
   "execution_count": 10,
   "id": "1c7b2c26",
   "metadata": {},
   "outputs": [
    {
     "data": {
      "text/html": [
       "<div>\n",
       "<style scoped>\n",
       "    .dataframe tbody tr th:only-of-type {\n",
       "        vertical-align: middle;\n",
       "    }\n",
       "\n",
       "    .dataframe tbody tr th {\n",
       "        vertical-align: top;\n",
       "    }\n",
       "\n",
       "    .dataframe thead th {\n",
       "        text-align: right;\n",
       "    }\n",
       "</style>\n",
       "<table border=\"1\" class=\"dataframe\">\n",
       "  <thead>\n",
       "    <tr style=\"text-align: right;\">\n",
       "      <th></th>\n",
       "      <th>TF</th>\n",
       "      <th>Target</th>\n",
       "      <th>Mode</th>\n",
       "      <th>PMID</th>\n",
       "    </tr>\n",
       "  </thead>\n",
       "  <tbody>\n",
       "    <tr>\n",
       "      <th>0</th>\n",
       "      <td>AATF</td>\n",
       "      <td>BAX</td>\n",
       "      <td>Repression</td>\n",
       "      <td>22909821</td>\n",
       "    </tr>\n",
       "    <tr>\n",
       "      <th>1</th>\n",
       "      <td>AATF</td>\n",
       "      <td>CDKN1A</td>\n",
       "      <td>Unknown</td>\n",
       "      <td>17157788</td>\n",
       "    </tr>\n",
       "    <tr>\n",
       "      <th>2</th>\n",
       "      <td>AATF</td>\n",
       "      <td>KLK3</td>\n",
       "      <td>Unknown</td>\n",
       "      <td>23146908</td>\n",
       "    </tr>\n",
       "    <tr>\n",
       "      <th>3</th>\n",
       "      <td>AATF</td>\n",
       "      <td>MYC</td>\n",
       "      <td>Activation</td>\n",
       "      <td>20549547</td>\n",
       "    </tr>\n",
       "    <tr>\n",
       "      <th>4</th>\n",
       "      <td>AATF</td>\n",
       "      <td>TP53</td>\n",
       "      <td>Unknown</td>\n",
       "      <td>17157788</td>\n",
       "    </tr>\n",
       "    <tr>\n",
       "      <th>...</th>\n",
       "      <td>...</td>\n",
       "      <td>...</td>\n",
       "      <td>...</td>\n",
       "      <td>...</td>\n",
       "    </tr>\n",
       "    <tr>\n",
       "      <th>9391</th>\n",
       "      <td>ZNF76</td>\n",
       "      <td>CDKN1A</td>\n",
       "      <td>Repression</td>\n",
       "      <td>15280358</td>\n",
       "    </tr>\n",
       "    <tr>\n",
       "      <th>9392</th>\n",
       "      <td>ZNF76</td>\n",
       "      <td>PCYT1A</td>\n",
       "      <td>Activation</td>\n",
       "      <td>14702349</td>\n",
       "    </tr>\n",
       "    <tr>\n",
       "      <th>9393</th>\n",
       "      <td>ZNF76</td>\n",
       "      <td>TALDO1</td>\n",
       "      <td>Unknown</td>\n",
       "      <td>14702349</td>\n",
       "    </tr>\n",
       "    <tr>\n",
       "      <th>9394</th>\n",
       "      <td>ZNRD1</td>\n",
       "      <td>ABCB1</td>\n",
       "      <td>Activation</td>\n",
       "      <td>16373708</td>\n",
       "    </tr>\n",
       "    <tr>\n",
       "      <th>9395</th>\n",
       "      <td>ZNRD1</td>\n",
       "      <td>BCL2</td>\n",
       "      <td>Activation</td>\n",
       "      <td>16373708;16609701</td>\n",
       "    </tr>\n",
       "  </tbody>\n",
       "</table>\n",
       "<p>9396 rows × 4 columns</p>\n",
       "</div>"
      ],
      "text/plain": [
       "         TF  Target        Mode               PMID\n",
       "0      AATF     BAX  Repression           22909821\n",
       "1      AATF  CDKN1A     Unknown           17157788\n",
       "2      AATF    KLK3     Unknown           23146908\n",
       "3      AATF     MYC  Activation           20549547\n",
       "4      AATF    TP53     Unknown           17157788\n",
       "...     ...     ...         ...                ...\n",
       "9391  ZNF76  CDKN1A  Repression           15280358\n",
       "9392  ZNF76  PCYT1A  Activation           14702349\n",
       "9393  ZNF76  TALDO1     Unknown           14702349\n",
       "9394  ZNRD1   ABCB1  Activation           16373708\n",
       "9395  ZNRD1    BCL2  Activation  16373708;16609701\n",
       "\n",
       "[9396 rows x 4 columns]"
      ]
     },
     "execution_count": 10,
     "metadata": {},
     "output_type": "execute_result"
    }
   ],
   "source": [
    "human_data"
   ]
  },
  {
   "cell_type": "code",
   "execution_count": null,
   "id": "13b46508",
   "metadata": {},
   "outputs": [],
   "source": []
  },
  {
   "cell_type": "code",
   "execution_count": null,
   "id": "bd8d5879",
   "metadata": {},
   "outputs": [],
   "source": []
  },
  {
   "cell_type": "markdown",
   "id": "913355b0",
   "metadata": {},
   "source": [
    "## Для начала можно просто посчитать количество пар TF-TG для каждого класса, нормированное на общее количество линков.\\\n",
    "Более продвинутые идеи (например посмотреть коррелирует ли node degree с age class) уже тоже можно пробовать.\n"
   ]
  },
  {
   "cell_type": "markdown",
   "id": "a912484f",
   "metadata": {},
   "source": []
  }
 ],
 "metadata": {
  "kernelspec": {
   "display_name": "Python 3 (ipykernel)",
   "language": "python",
   "name": "python3"
  },
  "language_info": {
   "codemirror_mode": {
    "name": "ipython",
    "version": 3
   },
   "file_extension": ".py",
   "mimetype": "text/x-python",
   "name": "python",
   "nbconvert_exporter": "python",
   "pygments_lexer": "ipython3",
   "version": "3.10.2"
  }
 },
 "nbformat": 4,
 "nbformat_minor": 5
}
