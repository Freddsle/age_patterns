{
 "cells": [
  {
   "cell_type": "code",
   "execution_count": 4,
   "id": "997688e5",
   "metadata": {},
   "outputs": [
    {
     "name": "stdout",
     "output_type": "stream",
     "text": [
      "3.10.2\n"
     ]
    }
   ],
   "source": [
    "from platform import python_version\n",
    "\n",
    "print(python_version())"
   ]
  },
  {
   "cell_type": "markdown",
   "id": "dc27fec6",
   "metadata": {},
   "source": [
    "# Task 1\n",
    "Познакомиться с NetworkX (пакет в Питоне) на трех сетях. \\\n",
    "Сети представлены в формате adjacency list.\n"
   ]
  },
  {
   "cell_type": "code",
   "execution_count": 6,
   "id": "bc593dcd",
   "metadata": {},
   "outputs": [],
   "source": [
    "import networkx as nx"
   ]
  },
  {
   "cell_type": "code",
   "execution_count": 7,
   "id": "92adc5e1",
   "metadata": {},
   "outputs": [],
   "source": [
    "G = nx.Graph()"
   ]
  },
  {
   "cell_type": "code",
   "execution_count": 9,
   "id": "7eea5322",
   "metadata": {},
   "outputs": [],
   "source": [
    "G.add_node(1)"
   ]
  },
  {
   "cell_type": "code",
   "execution_count": 11,
   "id": "c905009f",
   "metadata": {},
   "outputs": [],
   "source": [
    "G.add_nodes_from([2, 3])"
   ]
  },
  {
   "cell_type": "code",
   "execution_count": 12,
   "id": "02e75ac9",
   "metadata": {},
   "outputs": [],
   "source": [
    "G.add_nodes_from([\n",
    "    (4, {\"color\": \"red\"}),\n",
    "    (5, {\"color\": \"green\"}),\n",
    "])"
   ]
  },
  {
   "cell_type": "code",
   "execution_count": null,
   "id": "5a2b614b",
   "metadata": {},
   "outputs": [],
   "source": []
  },
  {
   "cell_type": "code",
   "execution_count": null,
   "id": "5c8b4bee",
   "metadata": {},
   "outputs": [],
   "source": []
  },
  {
   "cell_type": "code",
   "execution_count": null,
   "id": "0276497b",
   "metadata": {},
   "outputs": [],
   "source": []
  },
  {
   "cell_type": "code",
   "execution_count": null,
   "id": "54672fab",
   "metadata": {},
   "outputs": [],
   "source": []
  },
  {
   "cell_type": "markdown",
   "id": "bef69daf",
   "metadata": {},
   "source": [
    "Альтернатива - igraph в R, я с ним не особо работал, но говорят он гораздо быстрее. \\\n",
    "Посмотреть документацию по ним, что эти пакеты позволяют делать."
   ]
  },
  {
   "cell_type": "markdown",
   "id": "2d5bc480",
   "metadata": {},
   "source": [
    "# Task 2\n",
    "\n",
    "Скачать age gene classes из Liebeskind et. al. 2016, и замапить их на наши сети. Для начала можно просто посчитать количество пар TF-TG для каждого класса, нормированное на общее количество линков. Более продвинутые идеи (например посмотреть коррелирует ли node degree с age class) уже тоже можно пробовать.\n"
   ]
  },
  {
   "cell_type": "code",
   "execution_count": null,
   "id": "ba6e47df",
   "metadata": {},
   "outputs": [],
   "source": []
  },
  {
   "cell_type": "code",
   "execution_count": null,
   "id": "3fad446e",
   "metadata": {},
   "outputs": [],
   "source": []
  },
  {
   "cell_type": "markdown",
   "id": "603be38b",
   "metadata": {},
   "source": [
    "# Task 3\n",
    "Почитать про Schlicker similarity для GO terms (Schlicker et al., 2006). Там упоминаются два пакета в R, можно их поставить и попробовать можем ли мы использовать semantic similarity measures о которых они говорят для создания GO classes.\n"
   ]
  },
  {
   "cell_type": "code",
   "execution_count": null,
   "id": "24c06c80",
   "metadata": {},
   "outputs": [],
   "source": []
  }
 ],
 "metadata": {
  "kernelspec": {
   "display_name": "Python 3 (ipykernel)",
   "language": "python",
   "name": "python3"
  },
  "language_info": {
   "codemirror_mode": {
    "name": "ipython",
    "version": 3
   },
   "file_extension": ".py",
   "mimetype": "text/x-python",
   "name": "python",
   "nbconvert_exporter": "python",
   "pygments_lexer": "ipython3",
   "version": "3.10.2"
  }
 },
 "nbformat": 4,
 "nbformat_minor": 5
}
