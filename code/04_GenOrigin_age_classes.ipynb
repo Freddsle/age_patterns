{
 "cells": [
  {
   "cell_type": "code",
   "execution_count": 1,
   "id": "76c39668",
   "metadata": {},
   "outputs": [],
   "source": [
    "import networkx as nx\n",
    "import igraph\n",
    "import pandas as pd\n",
    "import pylab as plt\n",
    "import numpy as np\n",
    "import Bio\n",
    "import seaborn as sns"
   ]
  },
  {
   "cell_type": "markdown",
   "id": "7db33d7b",
   "metadata": {},
   "source": [
    "Some literature:\n",
    "\n",
    "1. Liebeskind, B. J., McWhite, C. D., &amp; Marcotte, E. M. (2016). Towards Consensus Gene Ages. Genome Biology and Evolution, 8(6), 1812–1823. doi:10.1093/gbe/evw113\n",
    "2. Domazet-Lošo, T., Brajković, J., &amp; Tautz, D. (2007). A phylostratigraphy approach to uncover the genomic history of major adaptations in metazoan lineages. Trends in Genetics, 23(11), 533–539. doi:10.1016/j.tig.2007.08.014\n",
    "3. Arendsee, Z., Li, J., Singh, U., Seetharam, A., Dorman, K., & Wurtele, E. S. (2019). Phylostratr: a framework for phylostratigraphy. Bioinformatics, 35(19), 3617-3627. https://doi.org/10.1093/bioinformatics/btz171\n",
    "4. Tong Y. B. et al. GenOrigin: A comprehensive protein-coding gene origination database on the evolutionary timescale of life //Journal of Genetics and Genomics. – 2021. https://doi.org/10.1016/j.jgg.2021.03.018\n"
   ]
  },
  {
   "cell_type": "markdown",
   "id": "a8998474",
   "metadata": {},
   "source": [
    "# Воспроизвести статью 2007\n",
    "Domazet-Lošo, T., Brajković, J., & Tautz, D. (2007). A phylostratigraphy approach to uncover the genomic history of major adaptations in metazoan lineages. Trends in Genetics, 23(11), 533–539. doi:10.1016/j.tig.2007.08.014\n",
    "\n",
    "\n",
    "https://en.wikipedia.org/wiki/Genomic_phylostratigraphy\n",
    "\n",
    "https://www.biorxiv.org/content/10.1101/360164v1\n",
    "\n",
    "\n",
    "## phylostratr: a framework for phylostratigraphy -- готовое решение\n",
    "\n",
    "Пакет для R с vignettes о Saccharomyces cerevisiae. Но воспроизвести ее пока не удалось.\n",
    "\n",
    "https://academic.oup.com/bioinformatics/article/35/19/3617/5380767?login=true\n",
    "\n",
    "https://github.com/arendsee/phylostratr/blob/master/vignettes/yeast.Rmd"
   ]
  },
  {
   "cell_type": "markdown",
   "id": "383512d2",
   "metadata": {},
   "source": [
    "# GenOrigin"
   ]
  },
  {
   "cell_type": "code",
   "execution_count": 2,
   "id": "04ec3956",
   "metadata": {},
   "outputs": [
    {
     "name": "stdout",
     "output_type": "stream",
     "text": [
      "(12873, 2)\n",
      "# of edges: 12873\n",
      "# of nodes: 4441\n"
     ]
    }
   ],
   "source": [
    "yeast_data = pd.read_csv('../data/yeast.txt', sep='\\t')\n",
    "print(yeast_data.shape)"
   ]
  },
  {
   "cell_type": "code",
   "execution_count": 25,
   "id": "3d675e46",
   "metadata": {},
   "outputs": [
    {
     "data": {
      "text/html": [
       "<div>\n",
       "<style scoped>\n",
       "    .dataframe tbody tr th:only-of-type {\n",
       "        vertical-align: middle;\n",
       "    }\n",
       "\n",
       "    .dataframe tbody tr th {\n",
       "        vertical-align: top;\n",
       "    }\n",
       "\n",
       "    .dataframe thead th {\n",
       "        text-align: right;\n",
       "    }\n",
       "</style>\n",
       "<table border=\"1\" class=\"dataframe\">\n",
       "  <thead>\n",
       "    <tr style=\"text-align: right;\">\n",
       "      <th></th>\n",
       "      <th>Tf</th>\n",
       "      <th>Tg</th>\n",
       "    </tr>\n",
       "  </thead>\n",
       "  <tbody>\n",
       "    <tr>\n",
       "      <th>0</th>\n",
       "      <td>YAL051W</td>\n",
       "      <td>YAL016W</td>\n",
       "    </tr>\n",
       "    <tr>\n",
       "      <th>1</th>\n",
       "      <td>YAL051W</td>\n",
       "      <td>YAL034WA</td>\n",
       "    </tr>\n",
       "    <tr>\n",
       "      <th>2</th>\n",
       "      <td>YAL051W</td>\n",
       "      <td>YAL035CA</td>\n",
       "    </tr>\n",
       "    <tr>\n",
       "      <th>3</th>\n",
       "      <td>YAL051W</td>\n",
       "      <td>YAL035W</td>\n",
       "    </tr>\n",
       "    <tr>\n",
       "      <th>4</th>\n",
       "      <td>YAL051W</td>\n",
       "      <td>YAL036C</td>\n",
       "    </tr>\n",
       "  </tbody>\n",
       "</table>\n",
       "</div>"
      ],
      "text/plain": [
       "        Tf        Tg\n",
       "0  YAL051W   YAL016W\n",
       "1  YAL051W  YAL034WA\n",
       "2  YAL051W  YAL035CA\n",
       "3  YAL051W   YAL035W\n",
       "4  YAL051W   YAL036C"
      ]
     },
     "execution_count": 25,
     "metadata": {},
     "output_type": "execute_result"
    }
   ],
   "source": [
    "yeast_data.head()"
   ]
  },
  {
   "cell_type": "code",
   "execution_count": 26,
   "id": "e3bc6d0b",
   "metadata": {},
   "outputs": [
    {
     "data": {
      "text/html": [
       "<div>\n",
       "<style scoped>\n",
       "    .dataframe tbody tr th:only-of-type {\n",
       "        vertical-align: middle;\n",
       "    }\n",
       "\n",
       "    .dataframe tbody tr th {\n",
       "        vertical-align: top;\n",
       "    }\n",
       "\n",
       "    .dataframe thead th {\n",
       "        text-align: right;\n",
       "    }\n",
       "</style>\n",
       "<table border=\"1\" class=\"dataframe\">\n",
       "  <thead>\n",
       "    <tr style=\"text-align: right;\">\n",
       "      <th></th>\n",
       "      <th>Tf</th>\n",
       "      <th>gene_age</th>\n",
       "      <th>gene_Interval</th>\n",
       "    </tr>\n",
       "  </thead>\n",
       "  <tbody>\n",
       "    <tr>\n",
       "      <th>0</th>\n",
       "      <td>YDR301W</td>\n",
       "      <td>34</td>\n",
       "      <td>0-69</td>\n",
       "    </tr>\n",
       "    <tr>\n",
       "      <th>1</th>\n",
       "      <td>YDR302W</td>\n",
       "      <td>34</td>\n",
       "      <td>0-69</td>\n",
       "    </tr>\n",
       "    <tr>\n",
       "      <th>2</th>\n",
       "      <td>YDR303C</td>\n",
       "      <td>163</td>\n",
       "      <td>114-212</td>\n",
       "    </tr>\n",
       "    <tr>\n",
       "      <th>3</th>\n",
       "      <td>YDR304C</td>\n",
       "      <td>1488</td>\n",
       "      <td>1480-1496</td>\n",
       "    </tr>\n",
       "    <tr>\n",
       "      <th>4</th>\n",
       "      <td>YDR305C</td>\n",
       "      <td>1488</td>\n",
       "      <td>1480-1496</td>\n",
       "    </tr>\n",
       "  </tbody>\n",
       "</table>\n",
       "</div>"
      ],
      "text/plain": [
       "        Tf gene_age gene_Interval\n",
       "0  YDR301W       34          0-69\n",
       "1  YDR302W       34          0-69\n",
       "2  YDR303C      163       114-212\n",
       "3  YDR304C     1488     1480-1496\n",
       "4  YDR305C     1488     1480-1496"
      ]
     },
     "execution_count": 26,
     "metadata": {},
     "output_type": "execute_result"
    }
   ],
   "source": [
    "yeast_gen_ages = pd.read_csv('../data/GenOrigin/Saccharomyces_cerevisiae.csv')\n",
    "yeast_gen_ages. rename(columns = {'ensembl_id':'Tf'}, inplace = True)\n",
    "\n",
    "yeast_gen_ages.head()"
   ]
  },
  {
   "cell_type": "code",
   "execution_count": 42,
   "id": "99ace4b4",
   "metadata": {},
   "outputs": [],
   "source": [
    "yeast_data['Tf_age'] = yeast_data.merge(yeast_gen_ages, how='left', on=['Tf']).gene_age\n",
    "\n",
    "\n",
    "yeast_gen_ages. rename(columns = {'Tf':'Tg'}, inplace = True)\n",
    "yeast_data['Tg_age'] = yeast_data.merge(yeast_gen_ages, how='left', on=['Tg']).gene_age"
   ]
  },
  {
   "cell_type": "code",
   "execution_count": 52,
   "id": "70afa66c",
   "metadata": {},
   "outputs": [
    {
     "data": {
      "text/html": [
       "<div>\n",
       "<style scoped>\n",
       "    .dataframe tbody tr th:only-of-type {\n",
       "        vertical-align: middle;\n",
       "    }\n",
       "\n",
       "    .dataframe tbody tr th {\n",
       "        vertical-align: top;\n",
       "    }\n",
       "\n",
       "    .dataframe thead th {\n",
       "        text-align: right;\n",
       "    }\n",
       "</style>\n",
       "<table border=\"1\" class=\"dataframe\">\n",
       "  <thead>\n",
       "    <tr style=\"text-align: right;\">\n",
       "      <th></th>\n",
       "      <th>Tf</th>\n",
       "      <th>Tg</th>\n",
       "      <th>Tf_age</th>\n",
       "      <th>Tg_age</th>\n",
       "    </tr>\n",
       "  </thead>\n",
       "  <tbody>\n",
       "    <tr>\n",
       "      <th>0</th>\n",
       "      <td>YAL051W</td>\n",
       "      <td>YAL016W</td>\n",
       "      <td>163</td>\n",
       "      <td>902</td>\n",
       "    </tr>\n",
       "    <tr>\n",
       "      <th>1</th>\n",
       "      <td>YAL051W</td>\n",
       "      <td>YAL034WA</td>\n",
       "      <td>163</td>\n",
       "      <td>NaN</td>\n",
       "    </tr>\n",
       "    <tr>\n",
       "      <th>2</th>\n",
       "      <td>YAL051W</td>\n",
       "      <td>YAL035CA</td>\n",
       "      <td>163</td>\n",
       "      <td>NaN</td>\n",
       "    </tr>\n",
       "    <tr>\n",
       "      <th>3</th>\n",
       "      <td>YAL051W</td>\n",
       "      <td>YAL035W</td>\n",
       "      <td>163</td>\n",
       "      <td>&gt;4290</td>\n",
       "    </tr>\n",
       "    <tr>\n",
       "      <th>4</th>\n",
       "      <td>YAL051W</td>\n",
       "      <td>YAL036C</td>\n",
       "      <td>163</td>\n",
       "      <td>&gt;4290</td>\n",
       "    </tr>\n",
       "  </tbody>\n",
       "</table>\n",
       "</div>"
      ],
      "text/plain": [
       "        Tf        Tg Tf_age Tg_age\n",
       "0  YAL051W   YAL016W    163    902\n",
       "1  YAL051W  YAL034WA    163    NaN\n",
       "2  YAL051W  YAL035CA    163    NaN\n",
       "3  YAL051W   YAL035W    163  >4290\n",
       "4  YAL051W   YAL036C    163  >4290"
      ]
     },
     "execution_count": 52,
     "metadata": {},
     "output_type": "execute_result"
    }
   ],
   "source": [
    "yeast_data.head()"
   ]
  },
  {
   "cell_type": "code",
   "execution_count": 73,
   "id": "06bf33a3",
   "metadata": {},
   "outputs": [
    {
     "data": {
      "text/plain": [
       "12873"
      ]
     },
     "execution_count": 73,
     "metadata": {},
     "output_type": "execute_result"
    }
   ],
   "source": [
    "yeast_data['Tf'].count()"
   ]
  },
  {
   "cell_type": "code",
   "execution_count": 72,
   "id": "8cbcc513",
   "metadata": {},
   "outputs": [
    {
     "data": {
      "text/plain": [
       "794"
      ]
     },
     "execution_count": 72,
     "metadata": {},
     "output_type": "execute_result"
    }
   ],
   "source": [
    "yeast_data['Tf'].count() * 2 - yeast_data['Tg_age'].count() - yeast_data['Tf_age'].count()"
   ]
  },
  {
   "cell_type": "code",
   "execution_count": 69,
   "id": "e9012764",
   "metadata": {},
   "outputs": [
    {
     "data": {
      "text/plain": [
       "12082"
      ]
     },
     "execution_count": 69,
     "metadata": {},
     "output_type": "execute_result"
    }
   ],
   "source": [
    "yeast_data['Tg_age'].count()"
   ]
  },
  {
   "cell_type": "code",
   "execution_count": 70,
   "id": "dbff1101",
   "metadata": {},
   "outputs": [
    {
     "data": {
      "text/plain": [
       "12870"
      ]
     },
     "execution_count": 70,
     "metadata": {},
     "output_type": "execute_result"
    }
   ],
   "source": [
    "yeast_data['Tf_age'].count()"
   ]
  },
  {
   "cell_type": "code",
   "execution_count": 55,
   "id": "568ea8ea",
   "metadata": {},
   "outputs": [
    {
     "data": {
      "text/plain": [
       "Tf_age\n",
       "1021     1286\n",
       "105         3\n",
       "1080      719\n",
       "1292      708\n",
       "1488      688\n",
       "163      1717\n",
       "1714      226\n",
       "258       169\n",
       "34       1027\n",
       "447      1812\n",
       "656      2851\n",
       "770       108\n",
       "80         28\n",
       "902       341\n",
       "92        583\n",
       "95         67\n",
       ">4290     537\n",
       "Name: Tf, dtype: int64"
      ]
     },
     "execution_count": 55,
     "metadata": {},
     "output_type": "execute_result"
    }
   ],
   "source": [
    "yeast_data.groupby('Tf_age').count().Tf"
   ]
  },
  {
   "cell_type": "code",
   "execution_count": null,
   "id": "14f9f055",
   "metadata": {},
   "outputs": [],
   "source": []
  }
 ],
 "metadata": {
  "kernelspec": {
   "display_name": "Python 3 (ipykernel)",
   "language": "python",
   "name": "python3"
  },
  "language_info": {
   "codemirror_mode": {
    "name": "ipython",
    "version": 3
   },
   "file_extension": ".py",
   "mimetype": "text/x-python",
   "name": "python",
   "nbconvert_exporter": "python",
   "pygments_lexer": "ipython3",
   "version": "3.10.1"
  }
 },
 "nbformat": 4,
 "nbformat_minor": 5
}
