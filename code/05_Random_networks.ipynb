{
 "cells": [
  {
   "cell_type": "code",
   "execution_count": 47,
   "id": "71733e65",
   "metadata": {},
   "outputs": [],
   "source": [
    "# For version check\n",
    "from platform import python_version\n",
    "from importlib.metadata import version"
   ]
  },
  {
   "cell_type": "code",
   "execution_count": 48,
   "id": "31d64962",
   "metadata": {},
   "outputs": [],
   "source": [
    "import random\n",
    "\n",
    "import pandas as pd\n",
    "import pylab as plt\n",
    "import numpy as np\n",
    "import seaborn as sns\n",
    "from scipy import stats"
   ]
  },
  {
   "cell_type": "code",
   "execution_count": 49,
   "id": "1802e854",
   "metadata": {},
   "outputs": [
    {
     "name": "stdout",
     "output_type": "stream",
     "text": [
      "Python:  3.10.1\n",
      "numpy:  1.22.3\n",
      "pandas:  1.4.2\n",
      "seaborn:  0.11.2\n",
      "matplotlib:  3.5.2\n",
      "scipy:  1.8.1\n"
     ]
    }
   ],
   "source": [
    "print('Python: ', python_version())\n",
    "\n",
    "print('numpy: ', version('numpy'))\n",
    "print('pandas: ', pd.__version__)\n",
    "print('seaborn: ', version('seaborn'))\n",
    "print('matplotlib: ', version('matplotlib'))\n",
    "print('scipy: ', version('scipy'))"
   ]
  },
  {
   "cell_type": "code",
   "execution_count": 50,
   "id": "d69832c2",
   "metadata": {},
   "outputs": [],
   "source": [
    "plt.rcParams[\"figure.figsize\"] = 13, 10\n",
    "sns.set_style(\"whitegrid\")"
   ]
  },
  {
   "cell_type": "markdown",
   "id": "3205fd3a",
   "metadata": {},
   "source": [
    "# 1. Random tree for BLAST ages Yeast\n",
    "## 1.1. Create distribution"
   ]
  },
  {
   "cell_type": "code",
   "execution_count": 77,
   "id": "4e201529",
   "metadata": {},
   "outputs": [],
   "source": [
    "yeast_blast_ages = pd.read_csv('../data/04_genes_lists/yeast/yest_gene_ages.txt', \n",
    "                               sep='\\t', \n",
    "                               header=None, \n",
    "                               names=['Tf', 'Age'])\n",
    "\n",
    "yeast_data = pd.read_csv('../data/01_GRNs/yeast.txt', sep='\\t')"
   ]
  },
  {
   "cell_type": "code",
   "execution_count": 78,
   "id": "851cf047",
   "metadata": {},
   "outputs": [
    {
     "data": {
      "text/html": [
       "<div>\n",
       "<style scoped>\n",
       "    .dataframe tbody tr th:only-of-type {\n",
       "        vertical-align: middle;\n",
       "    }\n",
       "\n",
       "    .dataframe tbody tr th {\n",
       "        vertical-align: top;\n",
       "    }\n",
       "\n",
       "    .dataframe thead th {\n",
       "        text-align: right;\n",
       "    }\n",
       "</style>\n",
       "<table border=\"1\" class=\"dataframe\">\n",
       "  <thead>\n",
       "    <tr style=\"text-align: right;\">\n",
       "      <th></th>\n",
       "      <th>Tf</th>\n",
       "      <th>Age</th>\n",
       "    </tr>\n",
       "  </thead>\n",
       "  <tbody>\n",
       "    <tr>\n",
       "      <th>0</th>\n",
       "      <td>YDL003W</td>\n",
       "      <td>Eukaryota</td>\n",
       "    </tr>\n",
       "    <tr>\n",
       "      <th>1</th>\n",
       "      <td>YKR060W</td>\n",
       "      <td>Opisthokonta</td>\n",
       "    </tr>\n",
       "    <tr>\n",
       "      <th>2</th>\n",
       "      <td>YMR254C</td>\n",
       "      <td>Saccharomyces</td>\n",
       "    </tr>\n",
       "    <tr>\n",
       "      <th>3</th>\n",
       "      <td>YEL059W</td>\n",
       "      <td>Saccharomyces</td>\n",
       "    </tr>\n",
       "    <tr>\n",
       "      <th>4</th>\n",
       "      <td>YHR030C</td>\n",
       "      <td>Eukaryota</td>\n",
       "    </tr>\n",
       "    <tr>\n",
       "      <th>...</th>\n",
       "      <td>...</td>\n",
       "      <td>...</td>\n",
       "    </tr>\n",
       "    <tr>\n",
       "      <th>4215</th>\n",
       "      <td>YKL037W</td>\n",
       "      <td>Saccharomyces</td>\n",
       "    </tr>\n",
       "    <tr>\n",
       "      <th>4216</th>\n",
       "      <td>YOR209C</td>\n",
       "      <td>Eukaryota</td>\n",
       "    </tr>\n",
       "    <tr>\n",
       "      <th>4217</th>\n",
       "      <td>YHR005C</td>\n",
       "      <td>Eukaryota</td>\n",
       "    </tr>\n",
       "    <tr>\n",
       "      <th>4218</th>\n",
       "      <td>YPR189W</td>\n",
       "      <td>Eukaryota</td>\n",
       "    </tr>\n",
       "    <tr>\n",
       "      <th>4219</th>\n",
       "      <td>YDL007W</td>\n",
       "      <td>Eukaryota</td>\n",
       "    </tr>\n",
       "  </tbody>\n",
       "</table>\n",
       "<p>4220 rows × 2 columns</p>\n",
       "</div>"
      ],
      "text/plain": [
       "           Tf            Age\n",
       "0     YDL003W      Eukaryota\n",
       "1     YKR060W   Opisthokonta\n",
       "2     YMR254C  Saccharomyces\n",
       "3     YEL059W  Saccharomyces\n",
       "4     YHR030C      Eukaryota\n",
       "...       ...            ...\n",
       "4215  YKL037W  Saccharomyces\n",
       "4216  YOR209C      Eukaryota\n",
       "4217  YHR005C      Eukaryota\n",
       "4218  YPR189W      Eukaryota\n",
       "4219  YDL007W      Eukaryota\n",
       "\n",
       "[4220 rows x 2 columns]"
      ]
     },
     "execution_count": 78,
     "metadata": {},
     "output_type": "execute_result"
    }
   ],
   "source": [
    "yeast_blast_ages"
   ]
  },
  {
   "cell_type": "code",
   "execution_count": 74,
   "id": "e31715e2",
   "metadata": {},
   "outputs": [],
   "source": [
    "def random_ages_counter(df_ages, yeast_data, n=1000, classes=None, mouse=False, human=False):\n",
    "    \n",
    "    if mouse == True or human == True:\n",
    "        if  classes == 'LProt':\n",
    "            classes = ['no info', 'Cellular_organisms', 'Euk_Archaea','Euk+Bac', 'Eukaryota',\n",
    "                       'Opisthokonta', 'Eumetazoa', 'Vertebrata', 'Mammalia']\n",
    "            \n",
    "        elif mouse == True:\n",
    "            classes = ['no info', '> Eukaryota', 'Eukaryota', 'Opisthokonta', 'Eumetazoa', \n",
    "                       'Vertebrata', 'Amniota', 'Mammalia', 'Rodentia', 'Muridae'] \n",
    "        else:\n",
    "            classes = ['no info', '> Eukaryota', 'Eukaryota', 'Opisthokonta', 'Eumetazoa', \n",
    "                       'Vertebrata', 'Amniota', 'Mammalia', 'Primates', 'Hominidae']\n",
    "        \n",
    "    else:\n",
    "        if classes == 'blast':\n",
    "            classes = ['no info', 'Eukaryota', 'Opisthokonta', 'Ascomycota', \n",
    "                       'Saccharomycetaceae', 'Saccharomyces']\n",
    "            \n",
    "        elif classes == 'LProt':\n",
    "            classes = ['no info', 'Cellular_organisms', 'Euk_Archaea','Euk+Bac', 'Eukaryota',\n",
    "                       'Opisthokonta', 'Dikarya', 'Ascomycota', 'Saccharomyceta']\n",
    "\n",
    "        else:\n",
    "            classes = ['no info', '> Eukaryota', 'Eukaryota', 'Opisthokonta', 'Fungi', \n",
    "                       'Dikarya', 'Ascomycota', 'Saccharomyceta', 'Saccharomycetaceae', \n",
    "                       'Saccharomyces']\n",
    "\n",
    "    # transform names to numbers \n",
    "    df_ages['Age'] = df_ages['Age'].apply(lambda x: classes.index(x))\n",
    "    \n",
    "    # crerate df        \n",
    "    counter = pd.DataFrame(np.nan, index=[i for i in range(len(classes)-1)], \n",
    "                           columns=[i for i in range(n)])\n",
    "    \n",
    "    for i in range(n):\n",
    "        # shuffle\n",
    "        df_ages =  df_ages.apply(lambda x: x.sample(frac=1, random_state=random.randint(0, 500)).values)\n",
    "        \n",
    "        \n",
    "        # merge dataframes\n",
    "        yeast_data['TF_age'] = yeast_data.merge(df_ages, how='left', on=['Tf']).Age        \n",
    "        df_ages = df_ages.rename(columns = {'Tf':'Tg'})\n",
    "        \n",
    "        yeast_data['Tg_age'] = yeast_data.merge(df_ages, how='left', on=['Tg']).Age\n",
    "        df_ages = df_ages.rename(columns = {'Tg':'Tf'})\n",
    "        \n",
    "        # calculate age distances\n",
    "        yeast_data['age_length'] = np.where((yeast_data['TF_age'].isnull()) | (yeast_data['Tg_age'].isnull()),\n",
    "                                         np.nan,\n",
    "                                         abs(yeast_data['TF_age'] - yeast_data['Tg_age']))\n",
    "        # add values to df\n",
    "        counter[i] = pd.DataFrame(yeast_data['age_length'].value_counts(normalize=True) * 100)\n",
    "            \n",
    "    return counter.sort_index(ascending=True).T"
   ]
  },
  {
   "cell_type": "code",
   "execution_count": 80,
   "id": "1ef03f7c",
   "metadata": {},
   "outputs": [],
   "source": [
    "counter = random_ages_counter(yeast_blast_ages, yeast_data, n=10000, classes='blast')"
   ]
  },
  {
   "cell_type": "markdown",
   "id": "fd5fa95c",
   "metadata": {},
   "source": [
    "## 1.2. Test BLAST results"
   ]
  },
  {
   "cell_type": "code",
   "execution_count": 81,
   "id": "aec34616",
   "metadata": {},
   "outputs": [],
   "source": [
    "yeast_blast_ages = pd.read_csv('../data/04_genes_lists/yeast/yest_gene_ages.txt', \n",
    "                               sep='\\t', \n",
    "                               header=None, \n",
    "                               names=['Tf', 'Age'])\n",
    "\n",
    "yeast_data = pd.read_csv('../data/01_GRNs/yeast.txt', sep='\\t')"
   ]
  },
  {
   "cell_type": "code",
   "execution_count": 82,
   "id": "8ec5909e",
   "metadata": {},
   "outputs": [],
   "source": [
    "# merge dataframes\n",
    "yeast_data['Tf_age'] = yeast_data.merge(yeast_blast_ages, how='left', on=['Tf']).Age\n",
    "yeast_blast_ages = yeast_blast_ages.rename(columns = {'Tf':'Tg'})\n",
    "yeast_data['Tg_age'] = yeast_data.merge(yeast_blast_ages, how='left', on=['Tg']).Age\n",
    "yeast_data[['Tg_age', 'Tf_age']] = yeast_data[['Tg_age', 'Tf_age']].replace(np.nan, 'no info')\n",
    "yeast_blast_ages = yeast_blast_ages.rename(columns = {'Tg':'Tf'})\n",
    "        \n",
    "# transform names to numbers\n",
    "classes = ['no info', 'Eukaryota', 'Opisthokonta', 'Ascomycota', 'Saccharomycetaceae', 'Saccharomyces']\n",
    "yeast_data['Tg_age_int'] = yeast_data['Tg_age'].apply(lambda x: classes.index(x))\n",
    "yeast_data['TF_age_int'] = yeast_data['Tf_age'].apply(lambda x: classes.index(x))\n",
    "yeast_data['age_length'] = np.where((yeast_data['TF_age_int'] == 0) | (yeast_data['Tg_age_int'] == 0),\n",
    "                                    -1,\n",
    "                                    abs(yeast_data['TF_age_int'] - yeast_data['Tg_age_int']))\n",
    "# no info to NAN\n",
    "yeast_data['age_length'] = yeast_data['age_length'].replace({-1: np.nan})"
   ]
  },
  {
   "cell_type": "code",
   "execution_count": 83,
   "id": "4d71405f",
   "metadata": {},
   "outputs": [],
   "source": [
    "counts = pd.DataFrame(yeast_data['age_length'].value_counts(normalize=True) * 100)\n",
    "counts = counts.rename(columns = {'age_length':'0'}).sort_index(ascending=True)"
   ]
  },
  {
   "cell_type": "code",
   "execution_count": 84,
   "id": "8512c0f4",
   "metadata": {},
   "outputs": [
    {
     "data": {
      "text/html": [
       "<div>\n",
       "<style scoped>\n",
       "    .dataframe tbody tr th:only-of-type {\n",
       "        vertical-align: middle;\n",
       "    }\n",
       "\n",
       "    .dataframe tbody tr th {\n",
       "        vertical-align: top;\n",
       "    }\n",
       "\n",
       "    .dataframe thead th {\n",
       "        text-align: right;\n",
       "    }\n",
       "</style>\n",
       "<table border=\"1\" class=\"dataframe\">\n",
       "  <thead>\n",
       "    <tr style=\"text-align: right;\">\n",
       "      <th></th>\n",
       "      <th>0.0</th>\n",
       "      <th>1.0</th>\n",
       "      <th>2.0</th>\n",
       "      <th>3.0</th>\n",
       "      <th>4.0</th>\n",
       "    </tr>\n",
       "  </thead>\n",
       "  <tbody>\n",
       "    <tr>\n",
       "      <th>0</th>\n",
       "      <td>27.865224</td>\n",
       "      <td>17.314314</td>\n",
       "      <td>23.659616</td>\n",
       "      <td>8.116085</td>\n",
       "      <td>23.044761</td>\n",
       "    </tr>\n",
       "  </tbody>\n",
       "</table>\n",
       "</div>"
      ],
      "text/plain": [
       "         0.0        1.0        2.0       3.0        4.0\n",
       "0  27.865224  17.314314  23.659616  8.116085  23.044761"
      ]
     },
     "execution_count": 84,
     "metadata": {},
     "output_type": "execute_result"
    }
   ],
   "source": [
    "# blast_values\n",
    "counts.T"
   ]
  },
  {
   "cell_type": "code",
   "execution_count": 85,
   "id": "3ca98acc",
   "metadata": {},
   "outputs": [
    {
     "data": {
      "image/png": "[encoded data removed]",
      "text/plain": [
       "<Figure size 936x720 with 1 Axes>"
      ]
     },
     "metadata": {},
     "output_type": "display_data"
    }
   ],
   "source": [
    "ax = sns.boxplot(data=counter)\n",
    "ax.scatter(np.arange(counts.T.shape[1]), counts.T, \n",
    "           marker='x', s=100, color='r')\n",
    "\n",
    "plt.ylabel('%')\n",
    "plt.xlabel('Interaction distance (BLAST), yeast')\n",
    "plt.show()"
   ]
  },
  {
   "cell_type": "code",
   "execution_count": 86,
   "id": "66000bff",
   "metadata": {},
   "outputs": [
    {
     "name": "stdout",
     "output_type": "stream",
     "text": [
      "BLAST:\n",
      "0 distance, z-score: -4.108,\tp-value: 0.0 < 0.05 — True\n",
      "1 distance, z-score: 2.184,\tp-value: 0.029 < 0.05 — True\n",
      "2 distance, z-score: 3.433,\tp-value: 0.0006 < 0.05 — True\n",
      "3 distance, z-score: 0.397,\tp-value: 0.6912 < 0.05 — False\n",
      "4 distance, z-score: -1.619,\tp-value: 0.1054 < 0.05 — False\n"
     ]
    }
   ],
   "source": [
    "# mean and sd for distances\n",
    "mean_blast = counter.mean()\n",
    "sd_blast = counter.std()\n",
    "\n",
    "print('BLAST:')\n",
    "\n",
    "for i in range(counter.shape[1]):    \n",
    "    z_score = (counts.loc[i][0] - mean_blast[i]) / sd_blast[i]\n",
    "    n_sided = 2\n",
    "    alpha = stats.norm.sf(abs(z_score)) * n_sided\n",
    "    \n",
    "    print(f'{i} distance, z-score: {round(z_score, 3)},\\tp-value: {round(alpha, 4)} < 0.05 — {alpha < 0.05}')"
   ]
  },
  {
   "cell_type": "code",
   "execution_count": 87,
   "id": "e480b9e3",
   "metadata": {},
   "outputs": [
    {
     "data": {
      "text/plain": [
       "0    37.195430\n",
       "1    13.190493\n",
       "2    15.502354\n",
       "3     7.637968\n",
       "4    26.473756\n",
       "dtype: float64"
      ]
     },
     "execution_count": 87,
     "metadata": {},
     "output_type": "execute_result"
    }
   ],
   "source": [
    "mean_blast"
   ]
  },
  {
   "cell_type": "markdown",
   "id": "3ffd5ef0",
   "metadata": {},
   "source": [
    "# 2. Random tree for GenOrigin ages\n",
    "## 2.1.Yeast\n",
    "### 2.1.1. Create distribution"
   ]
  },
  {
   "cell_type": "code",
   "execution_count": 75,
   "id": "35bf6fff",
   "metadata": {},
   "outputs": [],
   "source": [
    "yeast_GO_ages = pd.read_csv('../data/03_GenOrigin/yeast_gene_ages_GO.csv',\n",
    "                            header=0,\n",
    "                            names=['Tf', 'Age'])\n",
    "yeast_data = pd.read_csv('../data/01_GRNs/yeast.txt', sep='\\t')\n",
    "yeast_data_GO = pd.read_csv('../data/03_GenOrigin/yeast_classes_GO.csv')"
   ]
  },
  {
   "cell_type": "code",
   "execution_count": 76,
   "id": "15891409",
   "metadata": {},
   "outputs": [
    {
     "data": {
      "text/html": [
       "<div>\n",
       "<style scoped>\n",
       "    .dataframe tbody tr th:only-of-type {\n",
       "        vertical-align: middle;\n",
       "    }\n",
       "\n",
       "    .dataframe tbody tr th {\n",
       "        vertical-align: top;\n",
       "    }\n",
       "\n",
       "    .dataframe thead th {\n",
       "        text-align: right;\n",
       "    }\n",
       "</style>\n",
       "<table border=\"1\" class=\"dataframe\">\n",
       "  <thead>\n",
       "    <tr style=\"text-align: right;\">\n",
       "      <th></th>\n",
       "      <th>0</th>\n",
       "      <th>1</th>\n",
       "      <th>2</th>\n",
       "      <th>3</th>\n",
       "      <th>4</th>\n",
       "      <th>5</th>\n",
       "      <th>6</th>\n",
       "      <th>7</th>\n",
       "      <th>8</th>\n",
       "    </tr>\n",
       "  </thead>\n",
       "  <tbody>\n",
       "    <tr>\n",
       "      <th>0</th>\n",
       "      <td>13.675497</td>\n",
       "      <td>17.756623</td>\n",
       "      <td>18.112583</td>\n",
       "      <td>15.132450</td>\n",
       "      <td>12.317881</td>\n",
       "      <td>9.594371</td>\n",
       "      <td>4.875828</td>\n",
       "      <td>6.192053</td>\n",
       "      <td>2.342715</td>\n",
       "    </tr>\n",
       "    <tr>\n",
       "      <th>1</th>\n",
       "      <td>14.379139</td>\n",
       "      <td>15.778146</td>\n",
       "      <td>19.296358</td>\n",
       "      <td>15.223510</td>\n",
       "      <td>11.208609</td>\n",
       "      <td>11.332781</td>\n",
       "      <td>4.751656</td>\n",
       "      <td>5.463576</td>\n",
       "      <td>2.566225</td>\n",
       "    </tr>\n",
       "    <tr>\n",
       "      <th>2</th>\n",
       "      <td>15.281457</td>\n",
       "      <td>15.331126</td>\n",
       "      <td>17.615894</td>\n",
       "      <td>15.745033</td>\n",
       "      <td>11.506623</td>\n",
       "      <td>10.802980</td>\n",
       "      <td>4.205298</td>\n",
       "      <td>6.291391</td>\n",
       "      <td>3.220199</td>\n",
       "    </tr>\n",
       "    <tr>\n",
       "      <th>3</th>\n",
       "      <td>13.071192</td>\n",
       "      <td>18.485099</td>\n",
       "      <td>15.819536</td>\n",
       "      <td>15.422185</td>\n",
       "      <td>9.826159</td>\n",
       "      <td>11.448675</td>\n",
       "      <td>5.852649</td>\n",
       "      <td>6.423841</td>\n",
       "      <td>3.650662</td>\n",
       "    </tr>\n",
       "    <tr>\n",
       "      <th>4</th>\n",
       "      <td>14.039735</td>\n",
       "      <td>16.225166</td>\n",
       "      <td>15.422185</td>\n",
       "      <td>14.230132</td>\n",
       "      <td>12.798013</td>\n",
       "      <td>11.225166</td>\n",
       "      <td>5.587748</td>\n",
       "      <td>7.524834</td>\n",
       "      <td>2.947020</td>\n",
       "    </tr>\n",
       "  </tbody>\n",
       "</table>\n",
       "</div>"
      ],
      "text/plain": [
       "           0          1          2          3          4          5         6  \\\n",
       "0  13.675497  17.756623  18.112583  15.132450  12.317881   9.594371  4.875828   \n",
       "1  14.379139  15.778146  19.296358  15.223510  11.208609  11.332781  4.751656   \n",
       "2  15.281457  15.331126  17.615894  15.745033  11.506623  10.802980  4.205298   \n",
       "3  13.071192  18.485099  15.819536  15.422185   9.826159  11.448675  5.852649   \n",
       "4  14.039735  16.225166  15.422185  14.230132  12.798013  11.225166  5.587748   \n",
       "\n",
       "          7         8  \n",
       "0  6.192053  2.342715  \n",
       "1  5.463576  2.566225  \n",
       "2  6.291391  3.220199  \n",
       "3  6.423841  3.650662  \n",
       "4  7.524834  2.947020  "
      ]
     },
     "execution_count": 76,
     "metadata": {},
     "output_type": "execute_result"
    }
   ],
   "source": [
    "counter_GO = random_ages_counter(yeast_GO_ages, yeast_data, n=10000)\n",
    "counter_GO.head()"
   ]
  },
  {
   "cell_type": "code",
   "execution_count": 91,
   "id": "dafd7927",
   "metadata": {},
   "outputs": [],
   "source": [
    "# transform names to numbers\n",
    "classes = ['no info', '> Eukaryota', 'Eukaryota', 'Opisthokonta', 'Fungi', 'Dikarya', 'Ascomycota', \n",
    "           'Saccharomyceta', 'Saccharomycetaceae', 'Saccharomyces']\n",
    "\n",
    "# Substituting nans with \"no info\"\n",
    "yeast_data_GO[['Tg_age', 'Tf_age']] = yeast_data_GO[['Tg_age', 'Tf_age']].replace(np.nan, 'no info')\n",
    "\n",
    "yeast_data_GO['Tg_age'] = yeast_data_GO['Tg_age'].apply(lambda x: classes.index(x))\n",
    "yeast_data_GO['Tf_age'] = yeast_data_GO['Tf_age'].apply(lambda x: classes.index(x))\n",
    "\n",
    "yeast_data_GO['age_length'] = np.where((yeast_data_GO['Tf_age'] == 0) | (yeast_data_GO['Tg_age'] == 0),\n",
    "                                       -1,\n",
    "                                       abs(yeast_data_GO['Tf_age'] - yeast_data_GO['Tg_age']))\n",
    "\n",
    "# no info to NAN\n",
    "yeast_data_GO['age_length'] = yeast_data_GO['age_length'].replace({-1: np.nan})"
   ]
  },
  {
   "cell_type": "code",
   "execution_count": 92,
   "id": "01dd3127",
   "metadata": {},
   "outputs": [],
   "source": [
    "counts_GO = pd.DataFrame(yeast_data_GO['age_length'].value_counts(normalize=True) * 100)\n",
    "counts_GO = counts_GO.rename(columns = {'age_length':'0'}).sort_index(ascending=True)"
   ]
  },
  {
   "cell_type": "code",
   "execution_count": 93,
   "id": "62fbc620",
   "metadata": {},
   "outputs": [
    {
     "data": {
      "text/html": [
       "<div>\n",
       "<style scoped>\n",
       "    .dataframe tbody tr th:only-of-type {\n",
       "        vertical-align: middle;\n",
       "    }\n",
       "\n",
       "    .dataframe tbody tr th {\n",
       "        vertical-align: top;\n",
       "    }\n",
       "\n",
       "    .dataframe thead th {\n",
       "        text-align: right;\n",
       "    }\n",
       "</style>\n",
       "<table border=\"1\" class=\"dataframe\">\n",
       "  <thead>\n",
       "    <tr style=\"text-align: right;\">\n",
       "      <th></th>\n",
       "      <th>0.0</th>\n",
       "      <th>1.0</th>\n",
       "      <th>2.0</th>\n",
       "      <th>3.0</th>\n",
       "      <th>4.0</th>\n",
       "      <th>5.0</th>\n",
       "      <th>6.0</th>\n",
       "      <th>7.0</th>\n",
       "      <th>8.0</th>\n",
       "    </tr>\n",
       "  </thead>\n",
       "  <tbody>\n",
       "    <tr>\n",
       "      <th>0</th>\n",
       "      <td>14.254967</td>\n",
       "      <td>19.370861</td>\n",
       "      <td>21.407285</td>\n",
       "      <td>13.816225</td>\n",
       "      <td>9.817881</td>\n",
       "      <td>10.678808</td>\n",
       "      <td>5.852649</td>\n",
       "      <td>3.75</td>\n",
       "      <td>1.051325</td>\n",
       "    </tr>\n",
       "  </tbody>\n",
       "</table>\n",
       "</div>"
      ],
      "text/plain": [
       "         0.0        1.0        2.0        3.0       4.0        5.0       6.0  \\\n",
       "0  14.254967  19.370861  21.407285  13.816225  9.817881  10.678808  5.852649   \n",
       "\n",
       "    7.0       8.0  \n",
       "0  3.75  1.051325  "
      ]
     },
     "execution_count": 93,
     "metadata": {},
     "output_type": "execute_result"
    }
   ],
   "source": [
    "# GenOrigin\n",
    "counts_GO.T"
   ]
  },
  {
   "cell_type": "markdown",
   "id": "2b2c1a0a",
   "metadata": {},
   "source": [
    "### 2.1.2. Test GenOrigin results"
   ]
  },
  {
   "cell_type": "code",
   "execution_count": 94,
   "id": "61166699",
   "metadata": {},
   "outputs": [
    {
     "data": {
      "image/png": "[encoded data removed]",
      "text/plain": [
       "<Figure size 936x720 with 1 Axes>"
      ]
     },
     "metadata": {},
     "output_type": "display_data"
    }
   ],
   "source": [
    "ax = sns.boxplot(data=counter_GO, )\n",
    "ax.scatter(np.arange(counts_GO.T.shape[1]), counts_GO.T, \n",
    "           marker='x', s=140, color='r')\n",
    "\n",
    "plt.ylabel('%')\n",
    "plt.xlabel('Interaction distance (GenOrigin), yeast')\n",
    "plt.show()"
   ]
  },
  {
   "cell_type": "code",
   "execution_count": 95,
   "id": "a6a4950d",
   "metadata": {},
   "outputs": [
    {
     "name": "stdout",
     "output_type": "stream",
     "text": [
      "GenOrigin:\n",
      "0 distance, z-score: 0.293,\tp-value: 0.7696 < 0.05 — False\n",
      "1 distance, z-score: 1.865,\tp-value: 0.0622 < 0.05 — False\n",
      "2 distance, z-score: 3.132,\tp-value: 0.0017 < 0.05 — True\n",
      "3 distance, z-score: -1.318,\tp-value: 0.1874 < 0.05 — False\n",
      "4 distance, z-score: -1.774,\tp-value: 0.0761 < 0.05 — False\n",
      "5 distance, z-score: 0.363,\tp-value: 0.7168 < 0.05 — False\n",
      "6 distance, z-score: 0.937,\tp-value: 0.3485 < 0.05 — False\n",
      "7 distance, z-score: -2.959,\tp-value: 0.0031 < 0.05 — True\n",
      "8 distance, z-score: -2.702,\tp-value: 0.0069 < 0.05 — True\n"
     ]
    }
   ],
   "source": [
    "# mean and sd for distances\n",
    "mean_GO = counter_GO.mean()\n",
    "sd_GO = counter_GO.std()\n",
    "\n",
    "print('GenOrigin:')\n",
    "\n",
    "for i in range(counter_GO.shape[1]):    \n",
    "    z_score = (counts_GO.loc[i][0] - mean_GO[i]) / sd_GO[i]\n",
    "    n_sided = 2\n",
    "    alpha = stats.norm.sf(abs(z_score)) * n_sided\n",
    "    \n",
    "    print(f'{i} distance, z-score: {round(z_score, 3)},\\tp-value: {round(alpha, 4)} < 0.05 — {alpha < 0.05}')"
   ]
  },
  {
   "cell_type": "code",
   "execution_count": 96,
   "id": "d6a8f05d",
   "metadata": {},
   "outputs": [
    {
     "data": {
      "text/plain": [
       "0    14.047235\n",
       "1    17.368724\n",
       "2    18.085386\n",
       "3    14.919918\n",
       "4    11.252551\n",
       "5    10.424902\n",
       "6     5.244697\n",
       "7     6.038365\n",
       "8     2.618221\n",
       "dtype: float64"
      ]
     },
     "execution_count": 96,
     "metadata": {},
     "output_type": "execute_result"
    }
   ],
   "source": [
    "mean_GO"
   ]
  },
  {
   "cell_type": "markdown",
   "id": "46003fff",
   "metadata": {},
   "source": [
    "## 2.2. Mouse\n",
    "### 2.2.1. Create distribution"
   ]
  },
  {
   "cell_type": "code",
   "execution_count": 77,
   "id": "69cdea41",
   "metadata": {},
   "outputs": [],
   "source": [
    "mouse_GO_ages = pd.read_csv('../data/03_GenOrigin/mouse_gene_ages_GO.csv',\n",
    "                            header=0,\n",
    "                            names=['Tf', 'Age'])\n",
    "mouse_data = pd.read_csv('../data/01_GRNs/trrust_rawdata.mouse.tsv', \n",
    "                         sep='\\t', header=None, \n",
    "                         names=['TF', 'Target', 'Mode', 'PMID'])\n",
    "mouse_data_GO = pd.read_csv('../data/03_GenOrigin/mouse_classes_GO.csv')\n",
    "\n",
    "mouse_data.rename(columns = {'TF':'Tf', 'Target':'Tg'}, inplace = True)\n",
    "mouse_data_GO.rename(columns = {'TF':'Tf', 'Target':'Tg'}, inplace = True)"
   ]
  },
  {
   "cell_type": "code",
   "execution_count": 78,
   "id": "b7953c32",
   "metadata": {},
   "outputs": [
    {
     "data": {
      "text/html": [
       "<div>\n",
       "<style scoped>\n",
       "    .dataframe tbody tr th:only-of-type {\n",
       "        vertical-align: middle;\n",
       "    }\n",
       "\n",
       "    .dataframe tbody tr th {\n",
       "        vertical-align: top;\n",
       "    }\n",
       "\n",
       "    .dataframe thead th {\n",
       "        text-align: right;\n",
       "    }\n",
       "</style>\n",
       "<table border=\"1\" class=\"dataframe\">\n",
       "  <thead>\n",
       "    <tr style=\"text-align: right;\">\n",
       "      <th></th>\n",
       "      <th>0</th>\n",
       "      <th>1</th>\n",
       "      <th>2</th>\n",
       "      <th>3</th>\n",
       "      <th>4</th>\n",
       "      <th>5</th>\n",
       "      <th>6</th>\n",
       "      <th>7</th>\n",
       "      <th>8</th>\n",
       "    </tr>\n",
       "  </thead>\n",
       "  <tbody>\n",
       "    <tr>\n",
       "      <th>0</th>\n",
       "      <td>25.415883</td>\n",
       "      <td>23.188196</td>\n",
       "      <td>22.088818</td>\n",
       "      <td>14.581224</td>\n",
       "      <td>10.501953</td>\n",
       "      <td>2.140894</td>\n",
       "      <td>1.229567</td>\n",
       "      <td>0.622016</td>\n",
       "      <td>0.231448</td>\n",
       "    </tr>\n",
       "    <tr>\n",
       "      <th>1</th>\n",
       "      <td>25.878779</td>\n",
       "      <td>22.595111</td>\n",
       "      <td>25.227832</td>\n",
       "      <td>11.615796</td>\n",
       "      <td>9.851005</td>\n",
       "      <td>2.401273</td>\n",
       "      <td>1.533343</td>\n",
       "      <td>0.520758</td>\n",
       "      <td>0.376103</td>\n",
       "    </tr>\n",
       "    <tr>\n",
       "      <th>2</th>\n",
       "      <td>24.490091</td>\n",
       "      <td>23.506437</td>\n",
       "      <td>25.039780</td>\n",
       "      <td>11.485607</td>\n",
       "      <td>11.138435</td>\n",
       "      <td>2.025170</td>\n",
       "      <td>1.504412</td>\n",
       "      <td>0.506292</td>\n",
       "      <td>0.303775</td>\n",
       "    </tr>\n",
       "    <tr>\n",
       "      <th>3</th>\n",
       "      <td>27.658036</td>\n",
       "      <td>23.882540</td>\n",
       "      <td>22.016491</td>\n",
       "      <td>11.702589</td>\n",
       "      <td>9.691885</td>\n",
       "      <td>2.256618</td>\n",
       "      <td>1.706929</td>\n",
       "      <td>0.810068</td>\n",
       "      <td>0.274844</td>\n",
       "    </tr>\n",
       "    <tr>\n",
       "      <th>4</th>\n",
       "      <td>28.656155</td>\n",
       "      <td>22.754231</td>\n",
       "      <td>22.826559</td>\n",
       "      <td>11.905106</td>\n",
       "      <td>9.330247</td>\n",
       "      <td>2.300014</td>\n",
       "      <td>1.533343</td>\n",
       "      <td>0.520758</td>\n",
       "      <td>0.173586</td>\n",
       "    </tr>\n",
       "  </tbody>\n",
       "</table>\n",
       "</div>"
      ],
      "text/plain": [
       "           0          1          2          3          4         5         6  \\\n",
       "0  25.415883  23.188196  22.088818  14.581224  10.501953  2.140894  1.229567   \n",
       "1  25.878779  22.595111  25.227832  11.615796   9.851005  2.401273  1.533343   \n",
       "2  24.490091  23.506437  25.039780  11.485607  11.138435  2.025170  1.504412   \n",
       "3  27.658036  23.882540  22.016491  11.702589   9.691885  2.256618  1.706929   \n",
       "4  28.656155  22.754231  22.826559  11.905106   9.330247  2.300014  1.533343   \n",
       "\n",
       "          7         8  \n",
       "0  0.622016  0.231448  \n",
       "1  0.520758  0.376103  \n",
       "2  0.506292  0.303775  \n",
       "3  0.810068  0.274844  \n",
       "4  0.520758  0.173586  "
      ]
     },
     "execution_count": 78,
     "metadata": {},
     "output_type": "execute_result"
    }
   ],
   "source": [
    "counter_mouse_GO = random_ages_counter(mouse_GO_ages, mouse_data, n=1000, mouse=True)\n",
    "counter_mouse_GO.head()"
   ]
  },
  {
   "cell_type": "code",
   "execution_count": 79,
   "id": "b8b4a38d",
   "metadata": {},
   "outputs": [],
   "source": [
    "# transform names to numbers\n",
    "classes = ['no info', '> Eukaryota', 'Eukaryota', 'Opisthokonta', 'Eumetazoa', \n",
    "           'Vertebrata', 'Amniota', 'Mammalia', 'Rodentia', 'Muridae'] \n",
    "\n",
    "# Substituting nans with \"no info\"\n",
    "mouse_data_GO[['Tg_age', 'Tf_age']] = mouse_data_GO[['Tg_age', 'Tf_age']].replace(np.nan, 'no info')\n",
    "\n",
    "mouse_data_GO['Tg_age'] = mouse_data_GO['Tg_age'].apply(lambda x: classes.index(x))\n",
    "mouse_data_GO['Tf_age'] = mouse_data_GO['Tf_age'].apply(lambda x: classes.index(x))\n",
    "\n",
    "mouse_data_GO['age_length'] = np.where((mouse_data_GO['Tf_age'] == 0) | (mouse_data_GO['Tg_age'] == 0),\n",
    "                                       -1,\n",
    "                                       abs(mouse_data_GO['Tf_age'] - mouse_data_GO['Tg_age']))\n",
    "\n",
    "# no info to NAN\n",
    "mouse_data_GO['age_length'] = mouse_data_GO['age_length'].replace({-1: np.nan})"
   ]
  },
  {
   "cell_type": "code",
   "execution_count": 80,
   "id": "47b4ba7f",
   "metadata": {},
   "outputs": [],
   "source": [
    "counts_mouse_GO = pd.DataFrame(mouse_data_GO['age_length'].value_counts(normalize=True) * 100)\n",
    "counts_mouse_GO = counts_mouse_GO.rename(columns = {'age_length':'0'}).sort_index(ascending=True)"
   ]
  },
  {
   "cell_type": "code",
   "execution_count": 81,
   "id": "2777f0ff",
   "metadata": {},
   "outputs": [
    {
     "data": {
      "text/html": [
       "<div>\n",
       "<style scoped>\n",
       "    .dataframe tbody tr th:only-of-type {\n",
       "        vertical-align: middle;\n",
       "    }\n",
       "\n",
       "    .dataframe tbody tr th {\n",
       "        vertical-align: top;\n",
       "    }\n",
       "\n",
       "    .dataframe thead th {\n",
       "        text-align: right;\n",
       "    }\n",
       "</style>\n",
       "<table border=\"1\" class=\"dataframe\">\n",
       "  <thead>\n",
       "    <tr style=\"text-align: right;\">\n",
       "      <th></th>\n",
       "      <th>0.0</th>\n",
       "      <th>1.0</th>\n",
       "      <th>2.0</th>\n",
       "      <th>3.0</th>\n",
       "      <th>4.0</th>\n",
       "      <th>5.0</th>\n",
       "      <th>6.0</th>\n",
       "      <th>7.0</th>\n",
       "      <th>8.0</th>\n",
       "    </tr>\n",
       "  </thead>\n",
       "  <tbody>\n",
       "    <tr>\n",
       "      <th>0</th>\n",
       "      <td>29.205844</td>\n",
       "      <td>27.383191</td>\n",
       "      <td>23.737885</td>\n",
       "      <td>9.778678</td>\n",
       "      <td>6.581802</td>\n",
       "      <td>1.923911</td>\n",
       "      <td>1.070447</td>\n",
       "      <td>0.274844</td>\n",
       "      <td>0.043396</td>\n",
       "    </tr>\n",
       "  </tbody>\n",
       "</table>\n",
       "</div>"
      ],
      "text/plain": [
       "         0.0        1.0        2.0       3.0       4.0       5.0       6.0  \\\n",
       "0  29.205844  27.383191  23.737885  9.778678  6.581802  1.923911  1.070447   \n",
       "\n",
       "        7.0       8.0  \n",
       "0  0.274844  0.043396  "
      ]
     },
     "execution_count": 81,
     "metadata": {},
     "output_type": "execute_result"
    }
   ],
   "source": [
    "# GenOrigin\n",
    "counts_mouse_GO.T"
   ]
  },
  {
   "cell_type": "markdown",
   "id": "6424ad1c",
   "metadata": {},
   "source": [
    "### 2.2.2. Test GenOrigin results"
   ]
  },
  {
   "cell_type": "code",
   "execution_count": 82,
   "id": "84176548",
   "metadata": {},
   "outputs": [
    {
     "data": {
      "image/png": "[encoded data removed]",
      "text/plain": [
       "<Figure size 936x720 with 1 Axes>"
      ]
     },
     "metadata": {},
     "output_type": "display_data"
    }
   ],
   "source": [
    "ax = sns.boxplot(data=counter_mouse_GO)\n",
    "ax.scatter(np.arange(counts_mouse_GO.T.shape[1]), counts_mouse_GO.T, \n",
    "           marker='x', s=140, color='r')\n",
    "\n",
    "plt.ylabel('%')\n",
    "plt.xlabel('Interaction distance (GenOrigin), mouse')\n",
    "plt.show()"
   ]
  },
  {
   "cell_type": "code",
   "execution_count": 83,
   "id": "029514b6",
   "metadata": {},
   "outputs": [
    {
     "name": "stdout",
     "output_type": "stream",
     "text": [
      "GenOrigin:\n",
      "0 distance, z-score: 1.931,\tp-value: 0.0534 < 0.05 — False\n",
      "1 distance, z-score: 2.423,\tp-value: 0.0154 < 0.05 — True\n",
      "2 distance, z-score: 0.099,\tp-value: 0.921 < 0.05 — False\n",
      "3 distance, z-score: -2.174,\tp-value: 0.0297 < 0.05 — True\n",
      "4 distance, z-score: -2.876,\tp-value: 0.004 < 0.05 — True\n",
      "5 distance, z-score: -1.405,\tp-value: 0.1601 < 0.05 — False\n",
      "6 distance, z-score: -2.076,\tp-value: 0.0379 < 0.05 — True\n",
      "7 distance, z-score: -2.32,\tp-value: 0.0203 < 0.05 — True\n",
      "8 distance, z-score: -2.037,\tp-value: 0.0417 < 0.05 — True\n"
     ]
    }
   ],
   "source": [
    "# mean and sd for distances\n",
    "mean_GO = counter_mouse_GO.mean()\n",
    "sd_GO = counter_mouse_GO.std()\n",
    "\n",
    "print('GenOrigin:')\n",
    "\n",
    "for i in range(counter_mouse_GO.shape[1]):    \n",
    "    z_score = (counts_mouse_GO.loc[i][0] - mean_GO[i]) / sd_GO[i]\n",
    "    n_sided = 2\n",
    "    alpha = stats.norm.sf(abs(z_score)) * n_sided\n",
    "    \n",
    "    print(f'{i} distance, z-score: {round(z_score, 3)},\\tp-value: {round(alpha, 4)} < 0.05 — {alpha < 0.05}')"
   ]
  },
  {
   "cell_type": "markdown",
   "id": "d108a7ba",
   "metadata": {},
   "source": [
    "## 2.3. Human\n",
    "### 2.3.1. Create distribution"
   ]
  },
  {
   "cell_type": "code",
   "execution_count": 93,
   "id": "ebdd005e",
   "metadata": {},
   "outputs": [],
   "source": [
    "human_GO_ages = pd.read_csv('../data/03_GenOrigin/human_gene_ages_GO.csv',\n",
    "                            header=0,\n",
    "                            names=['Tf', 'Age'])\n",
    "human_data = pd.read_csv('../data/01_GRNs/trrust_rawdata.human.tsv', \n",
    "                         sep='\\t', header=None, \n",
    "                         names=['TF', 'Target', 'Mode', 'PMID'])\n",
    "human_data_GO = pd.read_csv('../data/03_GenOrigin/human_classes_GO.csv')\n",
    "\n",
    "human_data.rename(columns = {'TF':'Tf', 'Target':'Tg'}, inplace = True)\n",
    "human_data_GO.rename(columns = {'TF':'Tf', 'Target':'Tg'}, inplace = True)"
   ]
  },
  {
   "cell_type": "code",
   "execution_count": 94,
   "id": "ceb23185",
   "metadata": {},
   "outputs": [
    {
     "data": {
      "text/html": [
       "<div>\n",
       "<style scoped>\n",
       "    .dataframe tbody tr th:only-of-type {\n",
       "        vertical-align: middle;\n",
       "    }\n",
       "\n",
       "    .dataframe tbody tr th {\n",
       "        vertical-align: top;\n",
       "    }\n",
       "\n",
       "    .dataframe thead th {\n",
       "        text-align: right;\n",
       "    }\n",
       "</style>\n",
       "<table border=\"1\" class=\"dataframe\">\n",
       "  <thead>\n",
       "    <tr style=\"text-align: right;\">\n",
       "      <th></th>\n",
       "      <th>0</th>\n",
       "      <th>1</th>\n",
       "      <th>2</th>\n",
       "      <th>3</th>\n",
       "      <th>4</th>\n",
       "      <th>5</th>\n",
       "      <th>6</th>\n",
       "      <th>7</th>\n",
       "      <th>8</th>\n",
       "    </tr>\n",
       "  </thead>\n",
       "  <tbody>\n",
       "    <tr>\n",
       "      <th>0</th>\n",
       "      <td>21.071850</td>\n",
       "      <td>15.444098</td>\n",
       "      <td>21.394050</td>\n",
       "      <td>10.364085</td>\n",
       "      <td>18.096875</td>\n",
       "      <td>5.069273</td>\n",
       "      <td>5.488132</td>\n",
       "      <td>2.072817</td>\n",
       "      <td>0.998819</td>\n",
       "    </tr>\n",
       "    <tr>\n",
       "      <th>1</th>\n",
       "      <td>21.039631</td>\n",
       "      <td>14.767479</td>\n",
       "      <td>23.295027</td>\n",
       "      <td>9.440447</td>\n",
       "      <td>18.075395</td>\n",
       "      <td>4.113414</td>\n",
       "      <td>5.509612</td>\n",
       "      <td>2.180217</td>\n",
       "      <td>1.578778</td>\n",
       "    </tr>\n",
       "    <tr>\n",
       "      <th>2</th>\n",
       "      <td>20.019332</td>\n",
       "      <td>16.754377</td>\n",
       "      <td>18.816454</td>\n",
       "      <td>10.686285</td>\n",
       "      <td>16.432177</td>\n",
       "      <td>5.230373</td>\n",
       "      <td>6.916550</td>\n",
       "      <td>3.812695</td>\n",
       "      <td>1.331758</td>\n",
       "    </tr>\n",
       "    <tr>\n",
       "      <th>3</th>\n",
       "      <td>19.697132</td>\n",
       "      <td>17.806895</td>\n",
       "      <td>18.762754</td>\n",
       "      <td>9.311567</td>\n",
       "      <td>17.022876</td>\n",
       "      <td>6.540651</td>\n",
       "      <td>7.389110</td>\n",
       "      <td>1.815057</td>\n",
       "      <td>1.653958</td>\n",
       "    </tr>\n",
       "    <tr>\n",
       "      <th>4</th>\n",
       "      <td>21.963269</td>\n",
       "      <td>16.915476</td>\n",
       "      <td>19.536033</td>\n",
       "      <td>11.846203</td>\n",
       "      <td>16.367737</td>\n",
       "      <td>4.403394</td>\n",
       "      <td>4.908173</td>\n",
       "      <td>2.889056</td>\n",
       "      <td>1.170658</td>\n",
       "    </tr>\n",
       "  </tbody>\n",
       "</table>\n",
       "</div>"
      ],
      "text/plain": [
       "           0          1          2          3          4         5         6  \\\n",
       "0  21.071850  15.444098  21.394050  10.364085  18.096875  5.069273  5.488132   \n",
       "1  21.039631  14.767479  23.295027   9.440447  18.075395  4.113414  5.509612   \n",
       "2  20.019332  16.754377  18.816454  10.686285  16.432177  5.230373  6.916550   \n",
       "3  19.697132  17.806895  18.762754   9.311567  17.022876  6.540651  7.389110   \n",
       "4  21.963269  16.915476  19.536033  11.846203  16.367737  4.403394  4.908173   \n",
       "\n",
       "          7         8  \n",
       "0  2.072817  0.998819  \n",
       "1  2.180217  1.578778  \n",
       "2  3.812695  1.331758  \n",
       "3  1.815057  1.653958  \n",
       "4  2.889056  1.170658  "
      ]
     },
     "execution_count": 94,
     "metadata": {},
     "output_type": "execute_result"
    }
   ],
   "source": [
    "counter_human_GO = random_ages_counter(human_GO_ages, human_data, n=1000, human=True)\n",
    "counter_human_GO.head()"
   ]
  },
  {
   "cell_type": "code",
   "execution_count": 95,
   "id": "fbbf2b03",
   "metadata": {},
   "outputs": [],
   "source": [
    "# transform names to numbers\n",
    "classes =  ['no info', '> Eukaryota', 'Eukaryota', 'Opisthokonta', 'Eumetazoa', 'Vertebrata', 'Amniota', \n",
    "            'Mammalia', 'Primates', 'Hominidae']\n",
    "\n",
    "# Substituting nans with \"no info\"\n",
    "human_data_GO[['Tg_age', 'Tf_age']] = human_data_GO[['Tg_age', 'Tf_age']].replace(np.nan, 'no info')\n",
    "\n",
    "human_data_GO['Tg_age'] = human_data_GO['Tg_age'].apply(lambda x: classes.index(x))\n",
    "human_data_GO['Tf_age'] = human_data_GO['Tf_age'].apply(lambda x: classes.index(x))\n",
    "\n",
    "human_data_GO['age_length'] = np.where((human_data_GO['Tf_age'] == 0) | (human_data_GO['Tg_age'] == 0),\n",
    "                                       -1,\n",
    "                                       abs(human_data_GO['Tf_age'] - human_data_GO['Tg_age']))\n",
    "\n",
    "# no info to NAN\n",
    "human_data_GO['age_length'] = human_data_GO['age_length'].replace({-1: np.nan})"
   ]
  },
  {
   "cell_type": "code",
   "execution_count": 96,
   "id": "ef05f334",
   "metadata": {},
   "outputs": [],
   "source": [
    "counts_human_GO = pd.DataFrame(human_data_GO['age_length'].value_counts(normalize=True) * 100)\n",
    "counts_human_GO = counts_human_GO.rename(columns = {'age_length':'0'}).sort_index(ascending=True)"
   ]
  },
  {
   "cell_type": "code",
   "execution_count": 97,
   "id": "2de75f63",
   "metadata": {},
   "outputs": [
    {
     "data": {
      "text/html": [
       "<div>\n",
       "<style scoped>\n",
       "    .dataframe tbody tr th:only-of-type {\n",
       "        vertical-align: middle;\n",
       "    }\n",
       "\n",
       "    .dataframe tbody tr th {\n",
       "        vertical-align: top;\n",
       "    }\n",
       "\n",
       "    .dataframe thead th {\n",
       "        text-align: right;\n",
       "    }\n",
       "</style>\n",
       "<table border=\"1\" class=\"dataframe\">\n",
       "  <thead>\n",
       "    <tr style=\"text-align: right;\">\n",
       "      <th></th>\n",
       "      <th>0.0</th>\n",
       "      <th>1.0</th>\n",
       "      <th>2.0</th>\n",
       "      <th>3.0</th>\n",
       "      <th>4.0</th>\n",
       "      <th>5.0</th>\n",
       "      <th>6.0</th>\n",
       "      <th>7.0</th>\n",
       "      <th>8.0</th>\n",
       "    </tr>\n",
       "  </thead>\n",
       "  <tbody>\n",
       "    <tr>\n",
       "      <th>0</th>\n",
       "      <td>24.197186</td>\n",
       "      <td>21.20073</td>\n",
       "      <td>20.158952</td>\n",
       "      <td>7.14209</td>\n",
       "      <td>16.131457</td>\n",
       "      <td>4.714853</td>\n",
       "      <td>4.961873</td>\n",
       "      <td>0.934379</td>\n",
       "      <td>0.558479</td>\n",
       "    </tr>\n",
       "  </tbody>\n",
       "</table>\n",
       "</div>"
      ],
      "text/plain": [
       "         0.0       1.0        2.0      3.0        4.0       5.0       6.0  \\\n",
       "0  24.197186  21.20073  20.158952  7.14209  16.131457  4.714853  4.961873   \n",
       "\n",
       "        7.0       8.0  \n",
       "0  0.934379  0.558479  "
      ]
     },
     "execution_count": 97,
     "metadata": {},
     "output_type": "execute_result"
    }
   ],
   "source": [
    "# GenOrigin\n",
    "counts_human_GO.T"
   ]
  },
  {
   "cell_type": "markdown",
   "id": "8866bca7",
   "metadata": {},
   "source": [
    "### 2.3.2. Test GenOrigin results"
   ]
  },
  {
   "cell_type": "code",
   "execution_count": 98,
   "id": "a4798c31",
   "metadata": {},
   "outputs": [
    {
     "data": {
      "image/png": "[encoded data removed]",
      "text/plain": [
       "<Figure size 936x720 with 1 Axes>"
      ]
     },
     "metadata": {},
     "output_type": "display_data"
    }
   ],
   "source": [
    "ax = sns.boxplot(data=counter_human_GO)\n",
    "ax.scatter(np.arange(counts_human_GO.T.shape[1]), counts_human_GO.T, \n",
    "           marker='x', s=140, color='r')\n",
    "\n",
    "plt.ylabel('%')\n",
    "plt.xlabel('Interaction distance (GenOrigin), human')\n",
    "plt.show()"
   ]
  },
  {
   "cell_type": "code",
   "execution_count": 99,
   "id": "aca1406c",
   "metadata": {},
   "outputs": [
    {
     "name": "stdout",
     "output_type": "stream",
     "text": [
      "GenOrigin:\n",
      "0 distance, z-score: 1.921,\tp-value: 0.0547 < 0.05 — False\n",
      "1 distance, z-score: 2.581,\tp-value: 0.0098 < 0.05 — True\n",
      "2 distance, z-score: 0.268,\tp-value: 0.7889 < 0.05 — False\n",
      "3 distance, z-score: -1.766,\tp-value: 0.0774 < 0.05 — False\n",
      "4 distance, z-score: -1.057,\tp-value: 0.2906 < 0.05 — False\n",
      "5 distance, z-score: -0.972,\tp-value: 0.3309 < 0.05 — False\n",
      "6 distance, z-score: -1.301,\tp-value: 0.1933 < 0.05 — False\n",
      "7 distance, z-score: -2.553,\tp-value: 0.0107 < 0.05 — True\n",
      "8 distance, z-score: -1.975,\tp-value: 0.0483 < 0.05 — True\n"
     ]
    }
   ],
   "source": [
    "# mean and sd for distances\n",
    "mean_GO = counter_human_GO.mean()\n",
    "sd_GO = counter_human_GO.std()\n",
    "\n",
    "print('GenOrigin:')\n",
    "\n",
    "for i in range(counter_human_GO.shape[1]):    \n",
    "    z_score = (counts_human_GO.loc[i][0] - mean_GO[i]) / sd_GO[i]\n",
    "    n_sided = 2\n",
    "    alpha = stats.norm.sf(abs(z_score)) * n_sided\n",
    "    \n",
    "    print(f'{i} distance, z-score: {round(z_score, 3)},\\tp-value: {round(alpha, 4)} < 0.05 — {alpha < 0.05}')\n"
   ]
  },
  {
   "cell_type": "markdown",
   "id": "097ca225",
   "metadata": {},
   "source": [
    "# 3. Random tree for Protein ages\n",
    "## 3.1. Yeast\n",
    "### 3.1.1. Create distribution"
   ]
  },
  {
   "cell_type": "code",
   "execution_count": 34,
   "id": "8f23d41d",
   "metadata": {},
   "outputs": [],
   "source": [
    "yeast_L_ages = pd.read_csv('../data/02_age_classes/yeast_gene_ages_L.csv',\n",
    "                            header=0,\n",
    "                            names=['Tf', 'Age'])\n",
    "yeast_data = pd.read_csv('../data/01_GRNs/yeast.txt', sep='\\t')\n",
    "yeast_data_L = pd.read_csv('../data/02_age_classes/yeast_classes.csv')"
   ]
  },
  {
   "cell_type": "code",
   "execution_count": 35,
   "id": "403dc117",
   "metadata": {},
   "outputs": [
    {
     "data": {
      "text/html": [
       "<div>\n",
       "<style scoped>\n",
       "    .dataframe tbody tr th:only-of-type {\n",
       "        vertical-align: middle;\n",
       "    }\n",
       "\n",
       "    .dataframe tbody tr th {\n",
       "        vertical-align: top;\n",
       "    }\n",
       "\n",
       "    .dataframe thead th {\n",
       "        text-align: right;\n",
       "    }\n",
       "</style>\n",
       "<table border=\"1\" class=\"dataframe\">\n",
       "  <thead>\n",
       "    <tr style=\"text-align: right;\">\n",
       "      <th></th>\n",
       "      <th>0</th>\n",
       "      <th>1</th>\n",
       "      <th>2</th>\n",
       "      <th>3</th>\n",
       "      <th>4</th>\n",
       "      <th>5</th>\n",
       "      <th>6</th>\n",
       "      <th>7</th>\n",
       "    </tr>\n",
       "  </thead>\n",
       "  <tbody>\n",
       "    <tr>\n",
       "      <th>0</th>\n",
       "      <td>24.506561</td>\n",
       "      <td>18.841353</td>\n",
       "      <td>13.826950</td>\n",
       "      <td>15.576656</td>\n",
       "      <td>14.979196</td>\n",
       "      <td>6.625413</td>\n",
       "      <td>1.611010</td>\n",
       "      <td>4.032860</td>\n",
       "    </tr>\n",
       "    <tr>\n",
       "      <th>1</th>\n",
       "      <td>20.975141</td>\n",
       "      <td>23.098261</td>\n",
       "      <td>15.832711</td>\n",
       "      <td>15.043209</td>\n",
       "      <td>13.997653</td>\n",
       "      <td>6.710765</td>\n",
       "      <td>1.675024</td>\n",
       "      <td>2.667236</td>\n",
       "    </tr>\n",
       "    <tr>\n",
       "      <th>2</th>\n",
       "      <td>26.587005</td>\n",
       "      <td>17.273018</td>\n",
       "      <td>12.930759</td>\n",
       "      <td>13.666916</td>\n",
       "      <td>18.627974</td>\n",
       "      <td>5.665209</td>\n",
       "      <td>1.952417</td>\n",
       "      <td>3.296703</td>\n",
       "    </tr>\n",
       "    <tr>\n",
       "      <th>3</th>\n",
       "      <td>20.004268</td>\n",
       "      <td>18.158540</td>\n",
       "      <td>14.413742</td>\n",
       "      <td>17.144991</td>\n",
       "      <td>15.277926</td>\n",
       "      <td>8.279100</td>\n",
       "      <td>1.514990</td>\n",
       "      <td>5.206444</td>\n",
       "    </tr>\n",
       "    <tr>\n",
       "      <th>4</th>\n",
       "      <td>19.993599</td>\n",
       "      <td>18.467940</td>\n",
       "      <td>15.341940</td>\n",
       "      <td>16.440841</td>\n",
       "      <td>16.206124</td>\n",
       "      <td>6.710765</td>\n",
       "      <td>2.624560</td>\n",
       "      <td>4.214232</td>\n",
       "    </tr>\n",
       "  </tbody>\n",
       "</table>\n",
       "</div>"
      ],
      "text/plain": [
       "           0          1          2          3          4         5         6  \\\n",
       "0  24.506561  18.841353  13.826950  15.576656  14.979196  6.625413  1.611010   \n",
       "1  20.975141  23.098261  15.832711  15.043209  13.997653  6.710765  1.675024   \n",
       "2  26.587005  17.273018  12.930759  13.666916  18.627974  5.665209  1.952417   \n",
       "3  20.004268  18.158540  14.413742  17.144991  15.277926  8.279100  1.514990   \n",
       "4  19.993599  18.467940  15.341940  16.440841  16.206124  6.710765  2.624560   \n",
       "\n",
       "          7  \n",
       "0  4.032860  \n",
       "1  2.667236  \n",
       "2  3.296703  \n",
       "3  5.206444  \n",
       "4  4.214232  "
      ]
     },
     "execution_count": 35,
     "metadata": {},
     "output_type": "execute_result"
    }
   ],
   "source": [
    "counter_L = random_ages_counter(yeast_L_ages, yeast_data, n=10000, classes='LProt')\n",
    "counter_L.head()"
   ]
  },
  {
   "cell_type": "code",
   "execution_count": 37,
   "id": "8964bbfa",
   "metadata": {},
   "outputs": [
    {
     "data": {
      "text/html": [
       "<div>\n",
       "<style scoped>\n",
       "    .dataframe tbody tr th:only-of-type {\n",
       "        vertical-align: middle;\n",
       "    }\n",
       "\n",
       "    .dataframe tbody tr th {\n",
       "        vertical-align: top;\n",
       "    }\n",
       "\n",
       "    .dataframe thead th {\n",
       "        text-align: right;\n",
       "    }\n",
       "</style>\n",
       "<table border=\"1\" class=\"dataframe\">\n",
       "  <thead>\n",
       "    <tr style=\"text-align: right;\">\n",
       "      <th></th>\n",
       "      <th>Tf</th>\n",
       "      <th>Tg</th>\n",
       "      <th>TF_age</th>\n",
       "      <th>Tg_age</th>\n",
       "    </tr>\n",
       "  </thead>\n",
       "  <tbody>\n",
       "    <tr>\n",
       "      <th>0</th>\n",
       "      <td>YAL051W</td>\n",
       "      <td>YAL016W</td>\n",
       "      <td>Saccharomyceta</td>\n",
       "      <td>Eukaryota</td>\n",
       "    </tr>\n",
       "    <tr>\n",
       "      <th>1</th>\n",
       "      <td>YAL051W</td>\n",
       "      <td>YAL034WA</td>\n",
       "      <td>Saccharomyceta</td>\n",
       "      <td>NaN</td>\n",
       "    </tr>\n",
       "    <tr>\n",
       "      <th>2</th>\n",
       "      <td>YAL051W</td>\n",
       "      <td>YAL035CA</td>\n",
       "      <td>Saccharomyceta</td>\n",
       "      <td>NaN</td>\n",
       "    </tr>\n",
       "    <tr>\n",
       "      <th>3</th>\n",
       "      <td>YAL051W</td>\n",
       "      <td>YAL035W</td>\n",
       "      <td>Saccharomyceta</td>\n",
       "      <td>Euk_Archaea</td>\n",
       "    </tr>\n",
       "    <tr>\n",
       "      <th>4</th>\n",
       "      <td>YAL051W</td>\n",
       "      <td>YAL036C</td>\n",
       "      <td>Saccharomyceta</td>\n",
       "      <td>Cellular_organisms</td>\n",
       "    </tr>\n",
       "    <tr>\n",
       "      <th>...</th>\n",
       "      <td>...</td>\n",
       "      <td>...</td>\n",
       "      <td>...</td>\n",
       "      <td>...</td>\n",
       "    </tr>\n",
       "    <tr>\n",
       "      <th>12868</th>\n",
       "      <td>YPR199C</td>\n",
       "      <td>YML048WA</td>\n",
       "      <td>NaN</td>\n",
       "      <td>NaN</td>\n",
       "    </tr>\n",
       "    <tr>\n",
       "      <th>12869</th>\n",
       "      <td>YPR199C</td>\n",
       "      <td>YMR086CA</td>\n",
       "      <td>NaN</td>\n",
       "      <td>NaN</td>\n",
       "    </tr>\n",
       "    <tr>\n",
       "      <th>12870</th>\n",
       "      <td>YPR199C</td>\n",
       "      <td>YMR087W</td>\n",
       "      <td>NaN</td>\n",
       "      <td>Saccharomyceta</td>\n",
       "    </tr>\n",
       "    <tr>\n",
       "      <th>12871</th>\n",
       "      <td>YPR199C</td>\n",
       "      <td>YMR135WA</td>\n",
       "      <td>NaN</td>\n",
       "      <td>NaN</td>\n",
       "    </tr>\n",
       "    <tr>\n",
       "      <th>12872</th>\n",
       "      <td>YPR199C</td>\n",
       "      <td>YMR257C</td>\n",
       "      <td>NaN</td>\n",
       "      <td>NaN</td>\n",
       "    </tr>\n",
       "  </tbody>\n",
       "</table>\n",
       "<p>12873 rows × 4 columns</p>\n",
       "</div>"
      ],
      "text/plain": [
       "            Tf        Tg          TF_age              Tg_age\n",
       "0      YAL051W   YAL016W  Saccharomyceta           Eukaryota\n",
       "1      YAL051W  YAL034WA  Saccharomyceta                 NaN\n",
       "2      YAL051W  YAL035CA  Saccharomyceta                 NaN\n",
       "3      YAL051W   YAL035W  Saccharomyceta         Euk_Archaea\n",
       "4      YAL051W   YAL036C  Saccharomyceta  Cellular_organisms\n",
       "...        ...       ...             ...                 ...\n",
       "12868  YPR199C  YML048WA             NaN                 NaN\n",
       "12869  YPR199C  YMR086CA             NaN                 NaN\n",
       "12870  YPR199C   YMR087W             NaN      Saccharomyceta\n",
       "12871  YPR199C  YMR135WA             NaN                 NaN\n",
       "12872  YPR199C   YMR257C             NaN                 NaN\n",
       "\n",
       "[12873 rows x 4 columns]"
      ]
     },
     "execution_count": 37,
     "metadata": {},
     "output_type": "execute_result"
    }
   ],
   "source": [
    "yeast_data_L"
   ]
  },
  {
   "cell_type": "code",
   "execution_count": 38,
   "id": "92270181",
   "metadata": {},
   "outputs": [],
   "source": [
    "# transform names to numbers\n",
    "classes = ['no info', 'Cellular_organisms', 'Euk_Archaea','Euk+Bac', 'Eukaryota',\n",
    "                   'Opisthokonta', 'Dikarya', 'Ascomycota', 'Saccharomyceta']\n",
    "\n",
    "# Substituting nans with \"no info\"\n",
    "yeast_data_L[['Tg_age', 'TF_age']] = yeast_data_L[['Tg_age', 'TF_age']].replace(np.nan, 'no info')\n",
    "\n",
    "yeast_data_L['Tg_age'] = yeast_data_L['Tg_age'].apply(lambda x: classes.index(x))\n",
    "yeast_data_L['TF_age'] = yeast_data_L['TF_age'].apply(lambda x: classes.index(x))\n",
    "\n",
    "yeast_data_L['age_length'] = np.where((yeast_data_L['TF_age'] == 0) | (yeast_data_L['Tg_age'] == 0),\n",
    "                                       -1,\n",
    "                                       abs(yeast_data_L['TF_age'] - yeast_data_L['Tg_age']))\n",
    "\n",
    "# no info to NAN\n",
    "yeast_data_L['age_length'] = yeast_data_L['age_length'].replace({-1: np.nan})"
   ]
  },
  {
   "cell_type": "code",
   "execution_count": 39,
   "id": "5e522e80",
   "metadata": {},
   "outputs": [],
   "source": [
    "counts_L = pd.DataFrame(yeast_data_L['age_length'].value_counts(normalize=True) * 100)\n",
    "counts_L = counts_L.rename(columns = {'age_length':'0'}).sort_index(ascending=True)"
   ]
  },
  {
   "cell_type": "code",
   "execution_count": 40,
   "id": "4a253744",
   "metadata": {},
   "outputs": [
    {
     "data": {
      "text/html": [
       "<div>\n",
       "<style scoped>\n",
       "    .dataframe tbody tr th:only-of-type {\n",
       "        vertical-align: middle;\n",
       "    }\n",
       "\n",
       "    .dataframe tbody tr th {\n",
       "        vertical-align: top;\n",
       "    }\n",
       "\n",
       "    .dataframe thead th {\n",
       "        text-align: right;\n",
       "    }\n",
       "</style>\n",
       "<table border=\"1\" class=\"dataframe\">\n",
       "  <thead>\n",
       "    <tr style=\"text-align: right;\">\n",
       "      <th></th>\n",
       "      <th>0.0</th>\n",
       "      <th>1.0</th>\n",
       "      <th>2.0</th>\n",
       "      <th>3.0</th>\n",
       "      <th>4.0</th>\n",
       "      <th>5.0</th>\n",
       "      <th>6.0</th>\n",
       "      <th>7.0</th>\n",
       "    </tr>\n",
       "  </thead>\n",
       "  <tbody>\n",
       "    <tr>\n",
       "      <th>0</th>\n",
       "      <td>14.701803</td>\n",
       "      <td>17.977168</td>\n",
       "      <td>18.531953</td>\n",
       "      <td>13.602902</td>\n",
       "      <td>20.174971</td>\n",
       "      <td>8.407127</td>\n",
       "      <td>1.632348</td>\n",
       "      <td>4.971727</td>\n",
       "    </tr>\n",
       "  </tbody>\n",
       "</table>\n",
       "</div>"
      ],
      "text/plain": [
       "         0.0        1.0        2.0        3.0        4.0       5.0       6.0  \\\n",
       "0  14.701803  17.977168  18.531953  13.602902  20.174971  8.407127  1.632348   \n",
       "\n",
       "        7.0  \n",
       "0  4.971727  "
      ]
     },
     "execution_count": 40,
     "metadata": {},
     "output_type": "execute_result"
    }
   ],
   "source": [
    "# GenOrigin\n",
    "counts_L.T"
   ]
  },
  {
   "cell_type": "markdown",
   "id": "b27a9816",
   "metadata": {},
   "source": [
    "### 3.1.2. Test  results"
   ]
  },
  {
   "cell_type": "code",
   "execution_count": 44,
   "id": "22959bb4",
   "metadata": {
    "scrolled": true
   },
   "outputs": [
    {
     "data": {
      "image/png": "[encoded data removed]",
      "text/plain": [
       "<Figure size 936x720 with 1 Axes>"
      ]
     },
     "metadata": {},
     "output_type": "display_data"
    }
   ],
   "source": [
    "ax = sns.boxplot(data=counter_L, )\n",
    "ax.scatter(np.arange(counts_L.T.shape[1]), counts_L.T, \n",
    "           marker='x', s=140, color='r')\n",
    "\n",
    "plt.ylabel('%')\n",
    "plt.xlabel('Interaction distance (Protein), yeast')\n",
    "plt.show()"
   ]
  },
  {
   "cell_type": "code",
   "execution_count": 45,
   "id": "2a47a537",
   "metadata": {},
   "outputs": [
    {
     "name": "stdout",
     "output_type": "stream",
     "text": [
      "GenOrigin:\n",
      "0 distance, z-score: -4.579,\tp-value: 0.0 < 0.05 — True\n",
      "1 distance, z-score: -1.045,\tp-value: 0.2959 < 0.05 — False\n",
      "2 distance, z-score: 2.078,\tp-value: 0.0377 < 0.05 — True\n",
      "3 distance, z-score: -1.296,\tp-value: 0.1951 < 0.05 — False\n",
      "4 distance, z-score: 3.335,\tp-value: 0.0009 < 0.05 — True\n",
      "5 distance, z-score: 2.343,\tp-value: 0.0191 < 0.05 — True\n",
      "6 distance, z-score: -0.115,\tp-value: 0.9082 < 0.05 — False\n",
      "7 distance, z-score: 2.064,\tp-value: 0.039 < 0.05 — True\n"
     ]
    }
   ],
   "source": [
    "# mean and sd for distances\n",
    "mean_L = counter_L.mean()\n",
    "sd_L = counter_L.std()\n",
    "\n",
    "print('GenOrigin:')\n",
    "\n",
    "for i in range(counter_L.shape[1]):    \n",
    "    z_score = (counts_L.loc[i][0] - mean_L[i]) / sd_L[i]\n",
    "    n_sided = 2\n",
    "    alpha = stats.norm.sf(abs(z_score)) * n_sided\n",
    "    \n",
    "    print(f'{i} distance, z-score: {round(z_score, 3)},\\tp-value: {round(alpha, 4)} < 0.05 — {alpha < 0.05}')"
   ]
  },
  {
   "cell_type": "code",
   "execution_count": 46,
   "id": "ebcb00a9",
   "metadata": {},
   "outputs": [
    {
     "data": {
      "text/plain": [
       "0    22.629517\n",
       "1    19.761616\n",
       "2    15.349728\n",
       "3    15.306517\n",
       "4    15.342950\n",
       "5     6.440203\n",
       "6     1.681060\n",
       "7     3.488409\n",
       "dtype: float64"
      ]
     },
     "execution_count": 46,
     "metadata": {},
     "output_type": "execute_result"
    }
   ],
   "source": [
    "mean_L"
   ]
  },
  {
   "cell_type": "markdown",
   "id": "4e835229",
   "metadata": {},
   "source": [
    "## 3.2. Mouse\n",
    "### 3.2.1. Create distribution"
   ]
  },
  {
   "cell_type": "code",
   "execution_count": 105,
   "id": "9df5f0c4",
   "metadata": {},
   "outputs": [],
   "source": [
    "mouse_L_ages = pd.read_csv('../data/02_age_classes/mouse_gene_ages_L.csv',\n",
    "                            header=0,\n",
    "                            names=['Tf', 'Age'])\n",
    "mouse_data = pd.read_csv('../data/01_GRNs/trrust_rawdata.mouse.tsv', \n",
    "                         sep='\\t', header=None, \n",
    "                         names=['TF', 'Target', 'Mode', 'PMID'])\n",
    "\n",
    "mouse_data_L = pd.read_csv('../data/02_age_classes/trrust_rawdata.mouse_classes.csv')\n",
    "\n",
    "mouse_data.rename(columns = {'TF':'Tf', 'Target':'Tg'}, inplace = True)\n",
    "mouse_data_L.rename(columns = {'TF':'Tf', 'Target':'Tg'}, inplace = True)"
   ]
  },
  {
   "cell_type": "code",
   "execution_count": 106,
   "id": "72ae1aac",
   "metadata": {},
   "outputs": [
    {
     "data": {
      "text/html": [
       "<div>\n",
       "<style scoped>\n",
       "    .dataframe tbody tr th:only-of-type {\n",
       "        vertical-align: middle;\n",
       "    }\n",
       "\n",
       "    .dataframe tbody tr th {\n",
       "        vertical-align: top;\n",
       "    }\n",
       "\n",
       "    .dataframe thead th {\n",
       "        text-align: right;\n",
       "    }\n",
       "</style>\n",
       "<table border=\"1\" class=\"dataframe\">\n",
       "  <thead>\n",
       "    <tr style=\"text-align: right;\">\n",
       "      <th></th>\n",
       "      <th>0</th>\n",
       "      <th>1</th>\n",
       "      <th>2</th>\n",
       "      <th>3</th>\n",
       "      <th>4</th>\n",
       "      <th>5</th>\n",
       "      <th>6</th>\n",
       "      <th>7</th>\n",
       "    </tr>\n",
       "  </thead>\n",
       "  <tbody>\n",
       "    <tr>\n",
       "      <th>0</th>\n",
       "      <td>22.180512</td>\n",
       "      <td>27.142158</td>\n",
       "      <td>25.053044</td>\n",
       "      <td>13.383385</td>\n",
       "      <td>6.512159</td>\n",
       "      <td>3.737555</td>\n",
       "      <td>1.468908</td>\n",
       "      <td>0.522278</td>\n",
       "    </tr>\n",
       "    <tr>\n",
       "      <th>1</th>\n",
       "      <td>22.441652</td>\n",
       "      <td>26.358740</td>\n",
       "      <td>24.253305</td>\n",
       "      <td>14.509548</td>\n",
       "      <td>6.871226</td>\n",
       "      <td>3.688591</td>\n",
       "      <td>1.419945</td>\n",
       "      <td>0.456994</td>\n",
       "    </tr>\n",
       "    <tr>\n",
       "      <th>2</th>\n",
       "      <td>23.192427</td>\n",
       "      <td>28.023503</td>\n",
       "      <td>21.658234</td>\n",
       "      <td>14.378978</td>\n",
       "      <td>6.104129</td>\n",
       "      <td>4.537294</td>\n",
       "      <td>1.615799</td>\n",
       "      <td>0.489636</td>\n",
       "    </tr>\n",
       "    <tr>\n",
       "      <th>3</th>\n",
       "      <td>24.204341</td>\n",
       "      <td>24.416517</td>\n",
       "      <td>25.526359</td>\n",
       "      <td>15.341929</td>\n",
       "      <td>6.267341</td>\n",
       "      <td>3.101028</td>\n",
       "      <td>0.913987</td>\n",
       "      <td>0.228497</td>\n",
       "    </tr>\n",
       "    <tr>\n",
       "      <th>4</th>\n",
       "      <td>22.931288</td>\n",
       "      <td>24.742941</td>\n",
       "      <td>25.836462</td>\n",
       "      <td>14.085197</td>\n",
       "      <td>7.540395</td>\n",
       "      <td>3.231598</td>\n",
       "      <td>1.109842</td>\n",
       "      <td>0.522278</td>\n",
       "    </tr>\n",
       "  </tbody>\n",
       "</table>\n",
       "</div>"
      ],
      "text/plain": [
       "           0          1          2          3         4         5         6  \\\n",
       "0  22.180512  27.142158  25.053044  13.383385  6.512159  3.737555  1.468908   \n",
       "1  22.441652  26.358740  24.253305  14.509548  6.871226  3.688591  1.419945   \n",
       "2  23.192427  28.023503  21.658234  14.378978  6.104129  4.537294  1.615799   \n",
       "3  24.204341  24.416517  25.526359  15.341929  6.267341  3.101028  0.913987   \n",
       "4  22.931288  24.742941  25.836462  14.085197  7.540395  3.231598  1.109842   \n",
       "\n",
       "          7  \n",
       "0  0.522278  \n",
       "1  0.456994  \n",
       "2  0.489636  \n",
       "3  0.228497  \n",
       "4  0.522278  "
      ]
     },
     "execution_count": 106,
     "metadata": {},
     "output_type": "execute_result"
    }
   ],
   "source": [
    "counter_mouse_L = random_ages_counter(mouse_L_ages, mouse_data, n=1000, classes='LProt', mouse=True)\n",
    "counter_mouse_L.head()"
   ]
  },
  {
   "cell_type": "code",
   "execution_count": 107,
   "id": "25c16080",
   "metadata": {},
   "outputs": [],
   "source": [
    "# transform names to numbers\n",
    "classes = ['no info', 'Cellular_organisms', 'Euk_Archaea','Euk+Bac', 'Eukaryota',\n",
    "           'Opisthokonta', 'Eumetazoa', 'Vertebrata', 'Mammalia']\n",
    "\n",
    "# Substituting nans with \"no info\"\n",
    "mouse_data_L[['Tg_age', 'TF_age']] = mouse_data_L[['Tg_age', 'TF_age']].replace(np.nan, 'no info')\n",
    "\n",
    "mouse_data_L['Tg_age'] = mouse_data_L['Tg_age'].apply(lambda x: classes.index(x))\n",
    "mouse_data_L['TF_age'] = mouse_data_L['TF_age'].apply(lambda x: classes.index(x))\n",
    "\n",
    "mouse_data_L['age_length'] = np.where((mouse_data_L['TF_age'] == 0) | (mouse_data_L['Tg_age'] == 0),\n",
    "                                       -1,\n",
    "                                       abs(mouse_data_L['TF_age'] - mouse_data_L['Tg_age']))\n",
    "\n",
    "# no info to NAN\n",
    "mouse_data_L['age_length'] = mouse_data_L['age_length'].replace({-1: np.nan})\n"
   ]
  },
  {
   "cell_type": "code",
   "execution_count": 108,
   "id": "51eee573",
   "metadata": {},
   "outputs": [],
   "source": [
    "counts_mouse_L = pd.DataFrame(mouse_data_L['age_length'].value_counts(normalize=True) * 100)\n",
    "counts_mouse_L = counts_mouse_L.rename(columns = {'age_length':'0'}).sort_index(ascending=True)"
   ]
  },
  {
   "cell_type": "code",
   "execution_count": 109,
   "id": "7cb8b633",
   "metadata": {},
   "outputs": [
    {
     "data": {
      "text/html": [
       "<div>\n",
       "<style scoped>\n",
       "    .dataframe tbody tr th:only-of-type {\n",
       "        vertical-align: middle;\n",
       "    }\n",
       "\n",
       "    .dataframe tbody tr th {\n",
       "        vertical-align: top;\n",
       "    }\n",
       "\n",
       "    .dataframe thead th {\n",
       "        text-align: right;\n",
       "    }\n",
       "</style>\n",
       "<table border=\"1\" class=\"dataframe\">\n",
       "  <thead>\n",
       "    <tr style=\"text-align: right;\">\n",
       "      <th></th>\n",
       "      <th>0.0</th>\n",
       "      <th>1.0</th>\n",
       "      <th>2.0</th>\n",
       "      <th>3.0</th>\n",
       "      <th>4.0</th>\n",
       "      <th>5.0</th>\n",
       "      <th>6.0</th>\n",
       "      <th>7.0</th>\n",
       "    </tr>\n",
       "  </thead>\n",
       "  <tbody>\n",
       "    <tr>\n",
       "      <th>0</th>\n",
       "      <td>29.035417</td>\n",
       "      <td>32.07116</td>\n",
       "      <td>22.866003</td>\n",
       "      <td>9.760078</td>\n",
       "      <td>2.807247</td>\n",
       "      <td>2.725641</td>\n",
       "      <td>0.603884</td>\n",
       "      <td>0.13057</td>\n",
       "    </tr>\n",
       "  </tbody>\n",
       "</table>\n",
       "</div>"
      ],
      "text/plain": [
       "         0.0       1.0        2.0       3.0       4.0       5.0       6.0  \\\n",
       "0  29.035417  32.07116  22.866003  9.760078  2.807247  2.725641  0.603884   \n",
       "\n",
       "       7.0  \n",
       "0  0.13057  "
      ]
     },
     "execution_count": 109,
     "metadata": {},
     "output_type": "execute_result"
    }
   ],
   "source": [
    "# GenOrigin\n",
    "counts_mouse_L.T"
   ]
  },
  {
   "cell_type": "markdown",
   "id": "6705a8d1",
   "metadata": {},
   "source": [
    "### 3.2.2. Test  results"
   ]
  },
  {
   "cell_type": "code",
   "execution_count": 111,
   "id": "23faf96f",
   "metadata": {},
   "outputs": [
    {
     "data": {
      "image/png": "[encoded data removed]",
      "text/plain": [
       "<Figure size 936x720 with 1 Axes>"
      ]
     },
     "metadata": {},
     "output_type": "display_data"
    }
   ],
   "source": [
    "ax = sns.boxplot(data=counter_mouse_L)\n",
    "ax.scatter(np.arange(counts_mouse_L.T.shape[1]), counts_mouse_L.T, \n",
    "           marker='x', s=140, color='r')\n",
    "\n",
    "plt.ylabel('%')\n",
    "plt.xlabel('Interaction distance (Protein), mouse')\n",
    "plt.show()"
   ]
  },
  {
   "cell_type": "code",
   "execution_count": 113,
   "id": "b8623f67",
   "metadata": {},
   "outputs": [
    {
     "name": "stdout",
     "output_type": "stream",
     "text": [
      "Protein ages:\n",
      "0 distance, z-score: 3.956,\tp-value: 0.0001 < 0.05 — True\n",
      "1 distance, z-score: 3.976,\tp-value: 0.0001 < 0.05 — True\n",
      "2 distance, z-score: -0.377,\tp-value: 0.7059 < 0.05 — False\n",
      "3 distance, z-score: -4.956,\tp-value: 0.0 < 0.05 — True\n",
      "4 distance, z-score: -4.885,\tp-value: 0.0 < 0.05 — True\n",
      "5 distance, z-score: -1.801,\tp-value: 0.0716 < 0.05 — False\n",
      "6 distance, z-score: -2.326,\tp-value: 0.02 < 0.05 — True\n",
      "7 distance, z-score: -2.109,\tp-value: 0.0349 < 0.05 — True\n"
     ]
    }
   ],
   "source": [
    "# mean and sd for distances\n",
    "mean_L = counter_mouse_L.mean()\n",
    "sd_L = counter_mouse_L.std()\n",
    "\n",
    "print('Protein ages:')\n",
    "\n",
    "for i in range(counter_mouse_L.shape[1]):    \n",
    "    z_score = (counts_mouse_L.loc[i][0] - mean_L[i]) / sd_L[i]\n",
    "    n_sided = 2\n",
    "    alpha = stats.norm.sf(abs(z_score)) * n_sided\n",
    "    \n",
    "    print(f'{i} distance, z-score: {round(z_score, 3)},\\tp-value: {round(alpha, 4)} < 0.05 — {alpha < 0.05}')"
   ]
  },
  {
   "cell_type": "markdown",
   "id": "1d0731b8",
   "metadata": {},
   "source": [
    "## 3.3. Human\n",
    "### 3.3.1. Create distribution"
   ]
  },
  {
   "cell_type": "code",
   "execution_count": 114,
   "id": "f85745f7",
   "metadata": {},
   "outputs": [],
   "source": [
    "human_L_ages = pd.read_csv('../data/02_age_classes/human_gene_ages_L.csv',\n",
    "                            header=0,\n",
    "                            names=['Tf', 'Age'])\n",
    "human_data = pd.read_csv('../data/01_GRNs/trrust_rawdata.human.tsv', \n",
    "                         sep='\\t', header=None, \n",
    "                         names=['TF', 'Target', 'Mode', 'PMID'])\n",
    "\n",
    "human_data_L = pd.read_csv('../data/02_age_classes/trrust_rawdata.human_classes.csv')\n",
    "\n",
    "human_data.rename(columns = {'TF':'Tf', 'Target':'Tg'}, inplace = True)\n",
    "human_data_L.rename(columns = {'TF':'Tf', 'Target':'Tg'}, inplace = True)"
   ]
  },
  {
   "cell_type": "code",
   "execution_count": 115,
   "id": "4b9d677f",
   "metadata": {},
   "outputs": [
    {
     "data": {
      "text/html": [
       "<div>\n",
       "<style scoped>\n",
       "    .dataframe tbody tr th:only-of-type {\n",
       "        vertical-align: middle;\n",
       "    }\n",
       "\n",
       "    .dataframe tbody tr th {\n",
       "        vertical-align: top;\n",
       "    }\n",
       "\n",
       "    .dataframe thead th {\n",
       "        text-align: right;\n",
       "    }\n",
       "</style>\n",
       "<table border=\"1\" class=\"dataframe\">\n",
       "  <thead>\n",
       "    <tr style=\"text-align: right;\">\n",
       "      <th></th>\n",
       "      <th>0</th>\n",
       "      <th>1</th>\n",
       "      <th>2</th>\n",
       "      <th>3</th>\n",
       "      <th>4</th>\n",
       "      <th>5</th>\n",
       "      <th>6</th>\n",
       "      <th>7</th>\n",
       "    </tr>\n",
       "  </thead>\n",
       "  <tbody>\n",
       "    <tr>\n",
       "      <th>0</th>\n",
       "      <td>20.369970</td>\n",
       "      <td>23.117698</td>\n",
       "      <td>22.771527</td>\n",
       "      <td>16.908265</td>\n",
       "      <td>7.161402</td>\n",
       "      <td>5.971441</td>\n",
       "      <td>2.596279</td>\n",
       "      <td>1.103418</td>\n",
       "    </tr>\n",
       "    <tr>\n",
       "      <th>1</th>\n",
       "      <td>20.175249</td>\n",
       "      <td>22.728256</td>\n",
       "      <td>22.165729</td>\n",
       "      <td>16.919083</td>\n",
       "      <td>6.674600</td>\n",
       "      <td>6.501514</td>\n",
       "      <td>3.623972</td>\n",
       "      <td>1.211597</td>\n",
       "    </tr>\n",
       "    <tr>\n",
       "      <th>2</th>\n",
       "      <td>19.277369</td>\n",
       "      <td>20.543055</td>\n",
       "      <td>23.052791</td>\n",
       "      <td>17.806145</td>\n",
       "      <td>7.323669</td>\n",
       "      <td>7.183038</td>\n",
       "      <td>3.396798</td>\n",
       "      <td>1.417135</td>\n",
       "    </tr>\n",
       "    <tr>\n",
       "      <th>3</th>\n",
       "      <td>19.526179</td>\n",
       "      <td>25.302899</td>\n",
       "      <td>24.015578</td>\n",
       "      <td>17.200346</td>\n",
       "      <td>7.107313</td>\n",
       "      <td>4.186499</td>\n",
       "      <td>2.001298</td>\n",
       "      <td>0.659887</td>\n",
       "    </tr>\n",
       "    <tr>\n",
       "      <th>4</th>\n",
       "      <td>18.985288</td>\n",
       "      <td>22.360450</td>\n",
       "      <td>22.457810</td>\n",
       "      <td>18.011683</td>\n",
       "      <td>7.475119</td>\n",
       "      <td>6.425790</td>\n",
       "      <td>3.007356</td>\n",
       "      <td>1.276504</td>\n",
       "    </tr>\n",
       "  </tbody>\n",
       "</table>\n",
       "</div>"
      ],
      "text/plain": [
       "           0          1          2          3         4         5         6  \\\n",
       "0  20.369970  23.117698  22.771527  16.908265  7.161402  5.971441  2.596279   \n",
       "1  20.175249  22.728256  22.165729  16.919083  6.674600  6.501514  3.623972   \n",
       "2  19.277369  20.543055  23.052791  17.806145  7.323669  7.183038  3.396798   \n",
       "3  19.526179  25.302899  24.015578  17.200346  7.107313  4.186499  2.001298   \n",
       "4  18.985288  22.360450  22.457810  18.011683  7.475119  6.425790  3.007356   \n",
       "\n",
       "          7  \n",
       "0  1.103418  \n",
       "1  1.211597  \n",
       "2  1.417135  \n",
       "3  0.659887  \n",
       "4  1.276504  "
      ]
     },
     "execution_count": 115,
     "metadata": {},
     "output_type": "execute_result"
    }
   ],
   "source": [
    "counter_human_L = random_ages_counter(human_L_ages, human_data, n=1000, classes='LProt', human=True)\n",
    "counter_human_L.head()"
   ]
  },
  {
   "cell_type": "code",
   "execution_count": 116,
   "id": "08d238ea",
   "metadata": {},
   "outputs": [],
   "source": [
    "# transform names to numbers\n",
    "classes = ['no info', 'Cellular_organisms', 'Euk_Archaea','Euk+Bac', 'Eukaryota',\n",
    "           'Opisthokonta', 'Eumetazoa', 'Vertebrata', 'Mammalia']\n",
    "\n",
    "# Substituting nans with \"no info\"\n",
    "human_data_L[['Tg_age', 'TF_age']] = human_data_L[['Tg_age', 'TF_age']].replace(np.nan, 'no info')\n",
    "\n",
    "human_data_L['Tg_age'] = human_data_L['Tg_age'].apply(lambda x: classes.index(x))\n",
    "human_data_L['TF_age'] = human_data_L['TF_age'].apply(lambda x: classes.index(x))\n",
    "\n",
    "human_data_L['age_length'] = np.where((human_data_L['TF_age'] == 0) | (human_data_L['Tg_age'] == 0),\n",
    "                                       -1,\n",
    "                                       abs(human_data_L['TF_age'] - human_data_L['Tg_age']))\n",
    "\n",
    "# no info to NAN\n",
    "human_data_L['age_length'] = human_data_L['age_length'].replace({-1: np.nan})"
   ]
  },
  {
   "cell_type": "code",
   "execution_count": 117,
   "id": "7c38b0ad",
   "metadata": {},
   "outputs": [],
   "source": [
    "counts_human_L = pd.DataFrame(human_data_L['age_length'].value_counts(normalize=True) * 100)\n",
    "counts_human_L = counts_human_L.rename(columns = {'age_length':'0'}).sort_index(ascending=True)"
   ]
  },
  {
   "cell_type": "code",
   "execution_count": 118,
   "id": "ae2d7c2b",
   "metadata": {},
   "outputs": [
    {
     "data": {
      "text/html": [
       "<div>\n",
       "<style scoped>\n",
       "    .dataframe tbody tr th:only-of-type {\n",
       "        vertical-align: middle;\n",
       "    }\n",
       "\n",
       "    .dataframe tbody tr th {\n",
       "        vertical-align: top;\n",
       "    }\n",
       "\n",
       "    .dataframe thead th {\n",
       "        text-align: right;\n",
       "    }\n",
       "</style>\n",
       "<table border=\"1\" class=\"dataframe\">\n",
       "  <thead>\n",
       "    <tr style=\"text-align: right;\">\n",
       "      <th></th>\n",
       "      <th>0.0</th>\n",
       "      <th>1.0</th>\n",
       "      <th>2.0</th>\n",
       "      <th>3.0</th>\n",
       "      <th>4.0</th>\n",
       "      <th>5.0</th>\n",
       "      <th>6.0</th>\n",
       "      <th>7.0</th>\n",
       "    </tr>\n",
       "  </thead>\n",
       "  <tbody>\n",
       "    <tr>\n",
       "      <th>0</th>\n",
       "      <td>23.128516</td>\n",
       "      <td>33.394634</td>\n",
       "      <td>22.85807</td>\n",
       "      <td>11.412808</td>\n",
       "      <td>4.056685</td>\n",
       "      <td>3.158806</td>\n",
       "      <td>1.590221</td>\n",
       "      <td>0.40026</td>\n",
       "    </tr>\n",
       "  </tbody>\n",
       "</table>\n",
       "</div>"
      ],
      "text/plain": [
       "         0.0        1.0       2.0        3.0       4.0       5.0       6.0  \\\n",
       "0  23.128516  33.394634  22.85807  11.412808  4.056685  3.158806  1.590221   \n",
       "\n",
       "       7.0  \n",
       "0  0.40026  "
      ]
     },
     "execution_count": 118,
     "metadata": {},
     "output_type": "execute_result"
    }
   ],
   "source": [
    "# GenOrigin\n",
    "counts_human_L.T"
   ]
  },
  {
   "cell_type": "markdown",
   "id": "434b2e2b",
   "metadata": {},
   "source": [
    "### 3.3.2. Test  results"
   ]
  },
  {
   "cell_type": "code",
   "execution_count": 119,
   "id": "7026ebee",
   "metadata": {},
   "outputs": [
    {
     "data": {
      "image/png": "[encoded data removed]",
      "text/plain": [
       "<Figure size 936x720 with 1 Axes>"
      ]
     },
     "metadata": {},
     "output_type": "display_data"
    }
   ],
   "source": [
    "ax = sns.boxplot(data=counter_human_L)\n",
    "ax.scatter(np.arange(counts_human_L.T.shape[1]), counts_human_L.T, \n",
    "           marker='x', s=140, color='r')\n",
    "\n",
    "plt.ylabel('%')\n",
    "plt.xlabel('Interaction distance (Protein), human')\n",
    "plt.show()"
   ]
  },
  {
   "cell_type": "code",
   "execution_count": 120,
   "id": "bada683a",
   "metadata": {},
   "outputs": [
    {
     "name": "stdout",
     "output_type": "stream",
     "text": [
      "Protein ages:\n",
      "0 distance, z-score: 2.214,\tp-value: 0.0268 < 0.05 — True\n",
      "1 distance, z-score: 5.788,\tp-value: 0.0 < 0.05 — True\n",
      "2 distance, z-score: -0.272,\tp-value: 0.7856 < 0.05 — False\n",
      "3 distance, z-score: -4.802,\tp-value: 0.0 < 0.05 — True\n",
      "4 distance, z-score: -4.031,\tp-value: 0.0001 < 0.05 — True\n",
      "5 distance, z-score: -1.724,\tp-value: 0.0846 < 0.05 — False\n",
      "6 distance, z-score: -0.773,\tp-value: 0.4396 < 0.05 — False\n",
      "7 distance, z-score: -1.333,\tp-value: 0.1827 < 0.05 — False\n"
     ]
    }
   ],
   "source": [
    "# mean and sd for distances\n",
    "mean_L = counter_human_L.mean()\n",
    "sd_L = counter_human_L.std()\n",
    "\n",
    "print('Protein ages:')\n",
    "\n",
    "for i in range(counter_human_L.shape[1]):    \n",
    "    z_score = (counts_human_L.loc[i][0] - mean_L[i]) / sd_L[i]\n",
    "    n_sided = 2\n",
    "    alpha = stats.norm.sf(abs(z_score)) * n_sided\n",
    "    \n",
    "    print(f'{i} distance, z-score: {round(z_score, 3)},\\tp-value: {round(alpha, 4)} < 0.05 — {alpha < 0.05}')"
   ]
  },
  {
   "cell_type": "code",
   "execution_count": null,
   "id": "b5342044",
   "metadata": {},
   "outputs": [],
   "source": []
  }
 ],
 "metadata": {
  "kernelspec": {
   "display_name": "Python 3 (ipykernel)",
   "language": "python",
   "name": "python3"
  },
  "language_info": {
   "codemirror_mode": {
    "name": "ipython",
    "version": 3
   },
   "file_extension": ".py",
   "mimetype": "text/x-python",
   "name": "python",
   "nbconvert_exporter": "python",
   "pygments_lexer": "ipython3",
   "version": "3.10.1"
  }
 },
 "nbformat": 4,
 "nbformat_minor": 5
}
