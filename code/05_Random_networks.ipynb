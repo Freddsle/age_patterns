{
 "cells": [
  {
   "cell_type": "code",
   "execution_count": 2,
   "id": "71733e65",
   "metadata": {},
   "outputs": [],
   "source": [
    "# For version check\n",
    "from platform import python_version\n",
    "from importlib.metadata import version"
   ]
  },
  {
   "cell_type": "code",
   "execution_count": 3,
   "id": "31d64962",
   "metadata": {},
   "outputs": [],
   "source": [
    "import random\n",
    "\n",
    "import pandas as pd\n",
    "import pylab as plt\n",
    "import numpy as np\n",
    "import seaborn as sns\n",
    "from scipy import stats"
   ]
  },
  {
   "cell_type": "code",
   "execution_count": 4,
   "id": "1802e854",
   "metadata": {},
   "outputs": [
    {
     "name": "stdout",
     "output_type": "stream",
     "text": [
      "Python:  3.10.1\n",
      "numpy:  1.22.3\n",
      "pandas:  1.4.2\n",
      "seaborn:  0.11.2\n",
      "matplotlib:  3.5.2\n",
      "scipy:  1.8.1\n"
     ]
    }
   ],
   "source": [
    "print('Python: ', python_version())\n",
    "\n",
    "print('numpy: ', version('numpy'))\n",
    "print('pandas: ', pd.__version__)\n",
    "print('seaborn: ', version('seaborn'))\n",
    "print('matplotlib: ', version('matplotlib'))\n",
    "print('scipy: ', version('scipy'))"
   ]
  },
  {
   "cell_type": "code",
   "execution_count": 43,
   "id": "d69832c2",
   "metadata": {},
   "outputs": [],
   "source": [
    "plt.rcParams[\"figure.figsize\"] = 13, 10\n",
    "sns.set_style(\"whitegrid\")"
   ]
  },
  {
   "cell_type": "markdown",
   "id": "3205fd3a",
   "metadata": {},
   "source": [
    "# 1. Random tree for BLAST ages\n",
    "\n",
    "## 1.1. Create distribution"
   ]
  },
  {
   "cell_type": "code",
   "execution_count": 77,
   "id": "4e201529",
   "metadata": {},
   "outputs": [],
   "source": [
    "yeast_blast_ages = pd.read_csv('../data/04_genes_lists/yeast/yest_gene_ages.txt', \n",
    "                               sep='\\t', \n",
    "                               header=None, \n",
    "                               names=['Tf', 'Age'])\n",
    "\n",
    "yeast_data = pd.read_csv('../data/01_GRNs/yeast.txt', sep='\\t')"
   ]
  },
  {
   "cell_type": "code",
   "execution_count": 78,
   "id": "851cf047",
   "metadata": {},
   "outputs": [
    {
     "data": {
      "text/html": [
       "<div>\n",
       "<style scoped>\n",
       "    .dataframe tbody tr th:only-of-type {\n",
       "        vertical-align: middle;\n",
       "    }\n",
       "\n",
       "    .dataframe tbody tr th {\n",
       "        vertical-align: top;\n",
       "    }\n",
       "\n",
       "    .dataframe thead th {\n",
       "        text-align: right;\n",
       "    }\n",
       "</style>\n",
       "<table border=\"1\" class=\"dataframe\">\n",
       "  <thead>\n",
       "    <tr style=\"text-align: right;\">\n",
       "      <th></th>\n",
       "      <th>Tf</th>\n",
       "      <th>Age</th>\n",
       "    </tr>\n",
       "  </thead>\n",
       "  <tbody>\n",
       "    <tr>\n",
       "      <th>0</th>\n",
       "      <td>YDL003W</td>\n",
       "      <td>Eukaryota</td>\n",
       "    </tr>\n",
       "    <tr>\n",
       "      <th>1</th>\n",
       "      <td>YKR060W</td>\n",
       "      <td>Opisthokonta</td>\n",
       "    </tr>\n",
       "    <tr>\n",
       "      <th>2</th>\n",
       "      <td>YMR254C</td>\n",
       "      <td>Saccharomyces</td>\n",
       "    </tr>\n",
       "    <tr>\n",
       "      <th>3</th>\n",
       "      <td>YEL059W</td>\n",
       "      <td>Saccharomyces</td>\n",
       "    </tr>\n",
       "    <tr>\n",
       "      <th>4</th>\n",
       "      <td>YHR030C</td>\n",
       "      <td>Eukaryota</td>\n",
       "    </tr>\n",
       "    <tr>\n",
       "      <th>...</th>\n",
       "      <td>...</td>\n",
       "      <td>...</td>\n",
       "    </tr>\n",
       "    <tr>\n",
       "      <th>4215</th>\n",
       "      <td>YKL037W</td>\n",
       "      <td>Saccharomyces</td>\n",
       "    </tr>\n",
       "    <tr>\n",
       "      <th>4216</th>\n",
       "      <td>YOR209C</td>\n",
       "      <td>Eukaryota</td>\n",
       "    </tr>\n",
       "    <tr>\n",
       "      <th>4217</th>\n",
       "      <td>YHR005C</td>\n",
       "      <td>Eukaryota</td>\n",
       "    </tr>\n",
       "    <tr>\n",
       "      <th>4218</th>\n",
       "      <td>YPR189W</td>\n",
       "      <td>Eukaryota</td>\n",
       "    </tr>\n",
       "    <tr>\n",
       "      <th>4219</th>\n",
       "      <td>YDL007W</td>\n",
       "      <td>Eukaryota</td>\n",
       "    </tr>\n",
       "  </tbody>\n",
       "</table>\n",
       "<p>4220 rows × 2 columns</p>\n",
       "</div>"
      ],
      "text/plain": [
       "           Tf            Age\n",
       "0     YDL003W      Eukaryota\n",
       "1     YKR060W   Opisthokonta\n",
       "2     YMR254C  Saccharomyces\n",
       "3     YEL059W  Saccharomyces\n",
       "4     YHR030C      Eukaryota\n",
       "...       ...            ...\n",
       "4215  YKL037W  Saccharomyces\n",
       "4216  YOR209C      Eukaryota\n",
       "4217  YHR005C      Eukaryota\n",
       "4218  YPR189W      Eukaryota\n",
       "4219  YDL007W      Eukaryota\n",
       "\n",
       "[4220 rows x 2 columns]"
      ]
     },
     "execution_count": 78,
     "metadata": {},
     "output_type": "execute_result"
    }
   ],
   "source": [
    "yeast_blast_ages"
   ]
  },
  {
   "cell_type": "code",
   "execution_count": 29,
   "id": "e31715e2",
   "metadata": {},
   "outputs": [],
   "source": [
    "def random_ages_counter(df_ages, yeast_data, n=1000, classes=None):\n",
    "    \n",
    "    if classes == 'blast':\n",
    "        classes = ['no info', 'Eukaryota', 'Opisthokonta', 'Ascomycota', \n",
    "                   'Saccharomycetaceae', 'Saccharomyces']\n",
    "        \n",
    "    elif classes == 'LProt':\n",
    "        classes = ['no info', 'Cellular_organisms', 'Euk_Archaea','Euk+Bac', 'Eukaryota',\n",
    "                   'Opisthokonta', 'Dikarya', 'Ascomycota', 'Saccharomyceta']\n",
    "\n",
    "    else:\n",
    "        classes = ['no info', '> Eukaryota', 'Eukaryota', 'Opisthokonta', 'Fungi', \n",
    "                   'Dikarya', 'Ascomycota', 'Saccharomyceta', 'Saccharomycetaceae', \n",
    "                   'Saccharomyces']\n",
    "\n",
    "    # transform names to numbers \n",
    "    df_ages['Age'] = df_ages['Age'].apply(lambda x: classes.index(x))\n",
    "    \n",
    "    # crerate df        \n",
    "    counter = pd.DataFrame(np.nan, index=[i for i in range(len(classes)-1)], \n",
    "                           columns=[i for i in range(n)])\n",
    "    \n",
    "    for i in range(n):\n",
    "        # shuffle\n",
    "        df_ages =  df_ages.apply(lambda x: x.sample(frac=1, random_state=random.randint(0, 500)).values)\n",
    "        \n",
    "        \n",
    "        # merge dataframes\n",
    "        yeast_data['TF_age'] = yeast_data.merge(df_ages, how='left', on=['Tf']).Age        \n",
    "        df_ages = df_ages.rename(columns = {'Tf':'Tg'})\n",
    "        \n",
    "        yeast_data['Tg_age'] = yeast_data.merge(df_ages, how='left', on=['Tg']).Age\n",
    "        df_ages = df_ages.rename(columns = {'Tg':'Tf'})\n",
    "        \n",
    "        # calculate age distances\n",
    "        yeast_data['age_length'] = np.where((yeast_data['TF_age'].isnull()) | (yeast_data['Tg_age'].isnull()),\n",
    "                                         np.nan,\n",
    "                                         abs(yeast_data['TF_age'] - yeast_data['Tg_age']))\n",
    "        # add values to df\n",
    "        counter[i] = pd.DataFrame(yeast_data['age_length'].value_counts(normalize=True) * 100)\n",
    "            \n",
    "    return counter.sort_index(ascending=True).T"
   ]
  },
  {
   "cell_type": "code",
   "execution_count": 80,
   "id": "1ef03f7c",
   "metadata": {},
   "outputs": [],
   "source": [
    "counter = random_ages_counter(yeast_blast_ages, yeast_data, n=10000, classes='blast')"
   ]
  },
  {
   "cell_type": "markdown",
   "id": "fd5fa95c",
   "metadata": {},
   "source": [
    "## 1.2. Test BLAST results"
   ]
  },
  {
   "cell_type": "code",
   "execution_count": 81,
   "id": "aec34616",
   "metadata": {},
   "outputs": [],
   "source": [
    "yeast_blast_ages = pd.read_csv('../data/04_genes_lists/yeast/yest_gene_ages.txt', \n",
    "                               sep='\\t', \n",
    "                               header=None, \n",
    "                               names=['Tf', 'Age'])\n",
    "\n",
    "yeast_data = pd.read_csv('../data/01_GRNs/yeast.txt', sep='\\t')"
   ]
  },
  {
   "cell_type": "code",
   "execution_count": 82,
   "id": "8ec5909e",
   "metadata": {},
   "outputs": [],
   "source": [
    "# merge dataframes\n",
    "yeast_data['Tf_age'] = yeast_data.merge(yeast_blast_ages, how='left', on=['Tf']).Age\n",
    "yeast_blast_ages = yeast_blast_ages.rename(columns = {'Tf':'Tg'})\n",
    "yeast_data['Tg_age'] = yeast_data.merge(yeast_blast_ages, how='left', on=['Tg']).Age\n",
    "yeast_data[['Tg_age', 'Tf_age']] = yeast_data[['Tg_age', 'Tf_age']].replace(np.nan, 'no info')\n",
    "yeast_blast_ages = yeast_blast_ages.rename(columns = {'Tg':'Tf'})\n",
    "        \n",
    "# transform names to numbers\n",
    "classes = ['no info', 'Eukaryota', 'Opisthokonta', 'Ascomycota', 'Saccharomycetaceae', 'Saccharomyces']\n",
    "yeast_data['Tg_age_int'] = yeast_data['Tg_age'].apply(lambda x: classes.index(x))\n",
    "yeast_data['TF_age_int'] = yeast_data['Tf_age'].apply(lambda x: classes.index(x))\n",
    "yeast_data['age_length'] = np.where((yeast_data['TF_age_int'] == 0) | (yeast_data['Tg_age_int'] == 0),\n",
    "                                    -1,\n",
    "                                    abs(yeast_data['TF_age_int'] - yeast_data['Tg_age_int']))\n",
    "# no info to NAN\n",
    "yeast_data['age_length'] = yeast_data['age_length'].replace({-1: np.nan})"
   ]
  },
  {
   "cell_type": "code",
   "execution_count": 83,
   "id": "4d71405f",
   "metadata": {},
   "outputs": [],
   "source": [
    "counts = pd.DataFrame(yeast_data['age_length'].value_counts(normalize=True) * 100)\n",
    "counts = counts.rename(columns = {'age_length':'0'}).sort_index(ascending=True)"
   ]
  },
  {
   "cell_type": "code",
   "execution_count": 84,
   "id": "8512c0f4",
   "metadata": {},
   "outputs": [
    {
     "data": {
      "text/html": [
       "<div>\n",
       "<style scoped>\n",
       "    .dataframe tbody tr th:only-of-type {\n",
       "        vertical-align: middle;\n",
       "    }\n",
       "\n",
       "    .dataframe tbody tr th {\n",
       "        vertical-align: top;\n",
       "    }\n",
       "\n",
       "    .dataframe thead th {\n",
       "        text-align: right;\n",
       "    }\n",
       "</style>\n",
       "<table border=\"1\" class=\"dataframe\">\n",
       "  <thead>\n",
       "    <tr style=\"text-align: right;\">\n",
       "      <th></th>\n",
       "      <th>0.0</th>\n",
       "      <th>1.0</th>\n",
       "      <th>2.0</th>\n",
       "      <th>3.0</th>\n",
       "      <th>4.0</th>\n",
       "    </tr>\n",
       "  </thead>\n",
       "  <tbody>\n",
       "    <tr>\n",
       "      <th>0</th>\n",
       "      <td>27.865224</td>\n",
       "      <td>17.314314</td>\n",
       "      <td>23.659616</td>\n",
       "      <td>8.116085</td>\n",
       "      <td>23.044761</td>\n",
       "    </tr>\n",
       "  </tbody>\n",
       "</table>\n",
       "</div>"
      ],
      "text/plain": [
       "         0.0        1.0        2.0       3.0        4.0\n",
       "0  27.865224  17.314314  23.659616  8.116085  23.044761"
      ]
     },
     "execution_count": 84,
     "metadata": {},
     "output_type": "execute_result"
    }
   ],
   "source": [
    "# blast_values\n",
    "counts.T"
   ]
  },
  {
   "cell_type": "code",
   "execution_count": 85,
   "id": "3ca98acc",
   "metadata": {},
   "outputs": [
    {
     "data": {
      "image/png": "[encoded data removed]",
      "text/plain": [
       "<Figure size 936x720 with 1 Axes>"
      ]
     },
     "metadata": {},
     "output_type": "display_data"
    }
   ],
   "source": [
    "ax = sns.boxplot(data=counter)\n",
    "ax.scatter(np.arange(counts.T.shape[1]), counts.T, \n",
    "           marker='x', s=100, color='r')\n",
    "\n",
    "plt.ylabel('%')\n",
    "plt.xlabel('Interaction distance (BLAST), yeast')\n",
    "plt.show()"
   ]
  },
  {
   "cell_type": "code",
   "execution_count": 86,
   "id": "66000bff",
   "metadata": {},
   "outputs": [
    {
     "name": "stdout",
     "output_type": "stream",
     "text": [
      "BLAST:\n",
      "0 distance, z-score: -4.108,\tp-value: 0.0 < 0.05 — True\n",
      "1 distance, z-score: 2.184,\tp-value: 0.029 < 0.05 — True\n",
      "2 distance, z-score: 3.433,\tp-value: 0.0006 < 0.05 — True\n",
      "3 distance, z-score: 0.397,\tp-value: 0.6912 < 0.05 — False\n",
      "4 distance, z-score: -1.619,\tp-value: 0.1054 < 0.05 — False\n"
     ]
    }
   ],
   "source": [
    "# mean and sd for distances\n",
    "mean_blast = counter.mean()\n",
    "sd_blast = counter.std()\n",
    "\n",
    "print('BLAST:')\n",
    "\n",
    "for i in range(counter.shape[1]):    \n",
    "    z_score = (counts.loc[i][0] - mean_blast[i]) / sd_blast[i]\n",
    "    n_sided = 2\n",
    "    alpha = stats.norm.sf(abs(z_score)) * n_sided\n",
    "    \n",
    "    print(f'{i} distance, z-score: {round(z_score, 3)},\\tp-value: {round(alpha, 4)} < 0.05 — {alpha < 0.05}')"
   ]
  },
  {
   "cell_type": "code",
   "execution_count": 87,
   "id": "e480b9e3",
   "metadata": {},
   "outputs": [
    {
     "data": {
      "text/plain": [
       "0    37.195430\n",
       "1    13.190493\n",
       "2    15.502354\n",
       "3     7.637968\n",
       "4    26.473756\n",
       "dtype: float64"
      ]
     },
     "execution_count": 87,
     "metadata": {},
     "output_type": "execute_result"
    }
   ],
   "source": [
    "mean_blast"
   ]
  },
  {
   "cell_type": "markdown",
   "id": "3ffd5ef0",
   "metadata": {},
   "source": [
    "# 2. Random tree for GenOrigin ages\n",
    "\n",
    "## 2.1. Create distribution"
   ]
  },
  {
   "cell_type": "code",
   "execution_count": 6,
   "id": "35bf6fff",
   "metadata": {},
   "outputs": [],
   "source": [
    "yeast_GO_ages = pd.read_csv('../data/03_GenOrigin/yeast_gene_ages_GO.csv',\n",
    "                            header=0,\n",
    "                            names=['Tf', 'Age'])\n",
    "yeast_data = pd.read_csv('../data/01_GRNs/yeast.txt', sep='\\t')\n",
    "yeast_data_GO = pd.read_csv('../data/03_GenOrigin/yeast_classes_GO.csv')"
   ]
  },
  {
   "cell_type": "code",
   "execution_count": 90,
   "id": "15891409",
   "metadata": {},
   "outputs": [
    {
     "data": {
      "text/html": [
       "<div>\n",
       "<style scoped>\n",
       "    .dataframe tbody tr th:only-of-type {\n",
       "        vertical-align: middle;\n",
       "    }\n",
       "\n",
       "    .dataframe tbody tr th {\n",
       "        vertical-align: top;\n",
       "    }\n",
       "\n",
       "    .dataframe thead th {\n",
       "        text-align: right;\n",
       "    }\n",
       "</style>\n",
       "<table border=\"1\" class=\"dataframe\">\n",
       "  <thead>\n",
       "    <tr style=\"text-align: right;\">\n",
       "      <th></th>\n",
       "      <th>0</th>\n",
       "      <th>1</th>\n",
       "      <th>2</th>\n",
       "      <th>3</th>\n",
       "      <th>4</th>\n",
       "      <th>5</th>\n",
       "      <th>6</th>\n",
       "      <th>7</th>\n",
       "      <th>8</th>\n",
       "    </tr>\n",
       "  </thead>\n",
       "  <tbody>\n",
       "    <tr>\n",
       "      <th>0</th>\n",
       "      <td>14.346026</td>\n",
       "      <td>15.720199</td>\n",
       "      <td>19.172185</td>\n",
       "      <td>14.329470</td>\n",
       "      <td>11.630795</td>\n",
       "      <td>9.942053</td>\n",
       "      <td>5.695364</td>\n",
       "      <td>6.572848</td>\n",
       "      <td>2.591060</td>\n",
       "    </tr>\n",
       "    <tr>\n",
       "      <th>1</th>\n",
       "      <td>13.319536</td>\n",
       "      <td>18.153974</td>\n",
       "      <td>18.112583</td>\n",
       "      <td>14.089404</td>\n",
       "      <td>12.350993</td>\n",
       "      <td>9.470199</td>\n",
       "      <td>5.488411</td>\n",
       "      <td>6.829470</td>\n",
       "      <td>2.185430</td>\n",
       "    </tr>\n",
       "    <tr>\n",
       "      <th>2</th>\n",
       "      <td>13.807947</td>\n",
       "      <td>15.761589</td>\n",
       "      <td>17.706954</td>\n",
       "      <td>15.612583</td>\n",
       "      <td>12.524834</td>\n",
       "      <td>10.678808</td>\n",
       "      <td>4.842715</td>\n",
       "      <td>6.672185</td>\n",
       "      <td>2.392384</td>\n",
       "    </tr>\n",
       "    <tr>\n",
       "      <th>3</th>\n",
       "      <td>13.559603</td>\n",
       "      <td>19.594371</td>\n",
       "      <td>19.693709</td>\n",
       "      <td>13.551325</td>\n",
       "      <td>10.066225</td>\n",
       "      <td>9.900662</td>\n",
       "      <td>6.092715</td>\n",
       "      <td>5.016556</td>\n",
       "      <td>2.524834</td>\n",
       "    </tr>\n",
       "    <tr>\n",
       "      <th>4</th>\n",
       "      <td>14.072848</td>\n",
       "      <td>15.165563</td>\n",
       "      <td>16.018212</td>\n",
       "      <td>15.529801</td>\n",
       "      <td>10.347682</td>\n",
       "      <td>12.019868</td>\n",
       "      <td>4.942053</td>\n",
       "      <td>7.301325</td>\n",
       "      <td>4.602649</td>\n",
       "    </tr>\n",
       "  </tbody>\n",
       "</table>\n",
       "</div>"
      ],
      "text/plain": [
       "           0          1          2          3          4          5         6  \\\n",
       "0  14.346026  15.720199  19.172185  14.329470  11.630795   9.942053  5.695364   \n",
       "1  13.319536  18.153974  18.112583  14.089404  12.350993   9.470199  5.488411   \n",
       "2  13.807947  15.761589  17.706954  15.612583  12.524834  10.678808  4.842715   \n",
       "3  13.559603  19.594371  19.693709  13.551325  10.066225   9.900662  6.092715   \n",
       "4  14.072848  15.165563  16.018212  15.529801  10.347682  12.019868  4.942053   \n",
       "\n",
       "          7         8  \n",
       "0  6.572848  2.591060  \n",
       "1  6.829470  2.185430  \n",
       "2  6.672185  2.392384  \n",
       "3  5.016556  2.524834  \n",
       "4  7.301325  4.602649  "
      ]
     },
     "execution_count": 90,
     "metadata": {},
     "output_type": "execute_result"
    }
   ],
   "source": [
    "counter_GO = random_ages_counter(yeast_GO_ages, yeast_data, n=10000)\n",
    "counter_GO.head()"
   ]
  },
  {
   "cell_type": "code",
   "execution_count": 91,
   "id": "dafd7927",
   "metadata": {},
   "outputs": [],
   "source": [
    "# transform names to numbers\n",
    "classes = ['no info', '> Eukaryota', 'Eukaryota', 'Opisthokonta', 'Fungi', 'Dikarya', 'Ascomycota', \n",
    "           'Saccharomyceta', 'Saccharomycetaceae', 'Saccharomyces']\n",
    "\n",
    "# Substituting nans with \"no info\"\n",
    "yeast_data_GO[['Tg_age', 'Tf_age']] = yeast_data_GO[['Tg_age', 'Tf_age']].replace(np.nan, 'no info')\n",
    "\n",
    "yeast_data_GO['Tg_age'] = yeast_data_GO['Tg_age'].apply(lambda x: classes.index(x))\n",
    "yeast_data_GO['Tf_age'] = yeast_data_GO['Tf_age'].apply(lambda x: classes.index(x))\n",
    "\n",
    "yeast_data_GO['age_length'] = np.where((yeast_data_GO['Tf_age'] == 0) | (yeast_data_GO['Tg_age'] == 0),\n",
    "                                       -1,\n",
    "                                       abs(yeast_data_GO['Tf_age'] - yeast_data_GO['Tg_age']))\n",
    "\n",
    "# no info to NAN\n",
    "yeast_data_GO['age_length'] = yeast_data_GO['age_length'].replace({-1: np.nan})"
   ]
  },
  {
   "cell_type": "code",
   "execution_count": 92,
   "id": "01dd3127",
   "metadata": {},
   "outputs": [],
   "source": [
    "counts_GO = pd.DataFrame(yeast_data_GO['age_length'].value_counts(normalize=True) * 100)\n",
    "counts_GO = counts_GO.rename(columns = {'age_length':'0'}).sort_index(ascending=True)"
   ]
  },
  {
   "cell_type": "code",
   "execution_count": 93,
   "id": "62fbc620",
   "metadata": {},
   "outputs": [
    {
     "data": {
      "text/html": [
       "<div>\n",
       "<style scoped>\n",
       "    .dataframe tbody tr th:only-of-type {\n",
       "        vertical-align: middle;\n",
       "    }\n",
       "\n",
       "    .dataframe tbody tr th {\n",
       "        vertical-align: top;\n",
       "    }\n",
       "\n",
       "    .dataframe thead th {\n",
       "        text-align: right;\n",
       "    }\n",
       "</style>\n",
       "<table border=\"1\" class=\"dataframe\">\n",
       "  <thead>\n",
       "    <tr style=\"text-align: right;\">\n",
       "      <th></th>\n",
       "      <th>0.0</th>\n",
       "      <th>1.0</th>\n",
       "      <th>2.0</th>\n",
       "      <th>3.0</th>\n",
       "      <th>4.0</th>\n",
       "      <th>5.0</th>\n",
       "      <th>6.0</th>\n",
       "      <th>7.0</th>\n",
       "      <th>8.0</th>\n",
       "    </tr>\n",
       "  </thead>\n",
       "  <tbody>\n",
       "    <tr>\n",
       "      <th>0</th>\n",
       "      <td>14.254967</td>\n",
       "      <td>19.370861</td>\n",
       "      <td>21.407285</td>\n",
       "      <td>13.816225</td>\n",
       "      <td>9.817881</td>\n",
       "      <td>10.678808</td>\n",
       "      <td>5.852649</td>\n",
       "      <td>3.75</td>\n",
       "      <td>1.051325</td>\n",
       "    </tr>\n",
       "  </tbody>\n",
       "</table>\n",
       "</div>"
      ],
      "text/plain": [
       "         0.0        1.0        2.0        3.0       4.0        5.0       6.0  \\\n",
       "0  14.254967  19.370861  21.407285  13.816225  9.817881  10.678808  5.852649   \n",
       "\n",
       "    7.0       8.0  \n",
       "0  3.75  1.051325  "
      ]
     },
     "execution_count": 93,
     "metadata": {},
     "output_type": "execute_result"
    }
   ],
   "source": [
    "# GenOrigin\n",
    "counts_GO.T"
   ]
  },
  {
   "cell_type": "markdown",
   "id": "2b2c1a0a",
   "metadata": {},
   "source": [
    "## 2.2. Test GenOrigin results"
   ]
  },
  {
   "cell_type": "code",
   "execution_count": 94,
   "id": "61166699",
   "metadata": {},
   "outputs": [
    {
     "data": {
      "image/png": "[encoded data removed]",
      "text/plain": [
       "<Figure size 936x720 with 1 Axes>"
      ]
     },
     "metadata": {},
     "output_type": "display_data"
    }
   ],
   "source": [
    "ax = sns.boxplot(data=counter_GO, )\n",
    "ax.scatter(np.arange(counts_GO.T.shape[1]), counts_GO.T, \n",
    "           marker='x', s=140, color='r')\n",
    "\n",
    "plt.ylabel('%')\n",
    "plt.xlabel('Interaction distance (GenOrigin), yeast')\n",
    "plt.show()"
   ]
  },
  {
   "cell_type": "code",
   "execution_count": 95,
   "id": "a6a4950d",
   "metadata": {},
   "outputs": [
    {
     "name": "stdout",
     "output_type": "stream",
     "text": [
      "GenOrigin:\n",
      "0 distance, z-score: 0.293,\tp-value: 0.7696 < 0.05 — False\n",
      "1 distance, z-score: 1.865,\tp-value: 0.0622 < 0.05 — False\n",
      "2 distance, z-score: 3.132,\tp-value: 0.0017 < 0.05 — True\n",
      "3 distance, z-score: -1.318,\tp-value: 0.1874 < 0.05 — False\n",
      "4 distance, z-score: -1.774,\tp-value: 0.0761 < 0.05 — False\n",
      "5 distance, z-score: 0.363,\tp-value: 0.7168 < 0.05 — False\n",
      "6 distance, z-score: 0.937,\tp-value: 0.3485 < 0.05 — False\n",
      "7 distance, z-score: -2.959,\tp-value: 0.0031 < 0.05 — True\n",
      "8 distance, z-score: -2.702,\tp-value: 0.0069 < 0.05 — True\n"
     ]
    }
   ],
   "source": [
    "# mean and sd for distances\n",
    "mean_GO = counter_GO.mean()\n",
    "sd_GO = counter_GO.std()\n",
    "\n",
    "print('GenOrigin:')\n",
    "\n",
    "for i in range(counter_GO.shape[1]):    \n",
    "    z_score = (counts_GO.loc[i][0] - mean_GO[i]) / sd_GO[i]\n",
    "    n_sided = 2\n",
    "    alpha = stats.norm.sf(abs(z_score)) * n_sided\n",
    "    \n",
    "    print(f'{i} distance, z-score: {round(z_score, 3)},\\tp-value: {round(alpha, 4)} < 0.05 — {alpha < 0.05}')"
   ]
  },
  {
   "cell_type": "code",
   "execution_count": 96,
   "id": "d6a8f05d",
   "metadata": {},
   "outputs": [
    {
     "data": {
      "text/plain": [
       "0    14.047235\n",
       "1    17.368724\n",
       "2    18.085386\n",
       "3    14.919918\n",
       "4    11.252551\n",
       "5    10.424902\n",
       "6     5.244697\n",
       "7     6.038365\n",
       "8     2.618221\n",
       "dtype: float64"
      ]
     },
     "execution_count": 96,
     "metadata": {},
     "output_type": "execute_result"
    }
   ],
   "source": [
    "mean_GO"
   ]
  },
  {
   "cell_type": "markdown",
   "id": "097ca225",
   "metadata": {},
   "source": [
    "# 3. Random tree for Protein ages\n",
    "## 3.1. Create distribution"
   ]
  },
  {
   "cell_type": "code",
   "execution_count": 34,
   "id": "8f23d41d",
   "metadata": {},
   "outputs": [],
   "source": [
    "yeast_L_ages = pd.read_csv('../data/02_age_classes/yeast_gene_ages_L.csv',\n",
    "                            header=0,\n",
    "                            names=['Tf', 'Age'])\n",
    "yeast_data = pd.read_csv('../data/01_GRNs/yeast.txt', sep='\\t')\n",
    "yeast_data_L = pd.read_csv('../data/02_age_classes/yeast_classes.csv')"
   ]
  },
  {
   "cell_type": "code",
   "execution_count": 35,
   "id": "403dc117",
   "metadata": {},
   "outputs": [
    {
     "data": {
      "text/html": [
       "<div>\n",
       "<style scoped>\n",
       "    .dataframe tbody tr th:only-of-type {\n",
       "        vertical-align: middle;\n",
       "    }\n",
       "\n",
       "    .dataframe tbody tr th {\n",
       "        vertical-align: top;\n",
       "    }\n",
       "\n",
       "    .dataframe thead th {\n",
       "        text-align: right;\n",
       "    }\n",
       "</style>\n",
       "<table border=\"1\" class=\"dataframe\">\n",
       "  <thead>\n",
       "    <tr style=\"text-align: right;\">\n",
       "      <th></th>\n",
       "      <th>0</th>\n",
       "      <th>1</th>\n",
       "      <th>2</th>\n",
       "      <th>3</th>\n",
       "      <th>4</th>\n",
       "      <th>5</th>\n",
       "      <th>6</th>\n",
       "      <th>7</th>\n",
       "    </tr>\n",
       "  </thead>\n",
       "  <tbody>\n",
       "    <tr>\n",
       "      <th>0</th>\n",
       "      <td>24.506561</td>\n",
       "      <td>18.841353</td>\n",
       "      <td>13.826950</td>\n",
       "      <td>15.576656</td>\n",
       "      <td>14.979196</td>\n",
       "      <td>6.625413</td>\n",
       "      <td>1.611010</td>\n",
       "      <td>4.032860</td>\n",
       "    </tr>\n",
       "    <tr>\n",
       "      <th>1</th>\n",
       "      <td>20.975141</td>\n",
       "      <td>23.098261</td>\n",
       "      <td>15.832711</td>\n",
       "      <td>15.043209</td>\n",
       "      <td>13.997653</td>\n",
       "      <td>6.710765</td>\n",
       "      <td>1.675024</td>\n",
       "      <td>2.667236</td>\n",
       "    </tr>\n",
       "    <tr>\n",
       "      <th>2</th>\n",
       "      <td>26.587005</td>\n",
       "      <td>17.273018</td>\n",
       "      <td>12.930759</td>\n",
       "      <td>13.666916</td>\n",
       "      <td>18.627974</td>\n",
       "      <td>5.665209</td>\n",
       "      <td>1.952417</td>\n",
       "      <td>3.296703</td>\n",
       "    </tr>\n",
       "    <tr>\n",
       "      <th>3</th>\n",
       "      <td>20.004268</td>\n",
       "      <td>18.158540</td>\n",
       "      <td>14.413742</td>\n",
       "      <td>17.144991</td>\n",
       "      <td>15.277926</td>\n",
       "      <td>8.279100</td>\n",
       "      <td>1.514990</td>\n",
       "      <td>5.206444</td>\n",
       "    </tr>\n",
       "    <tr>\n",
       "      <th>4</th>\n",
       "      <td>19.993599</td>\n",
       "      <td>18.467940</td>\n",
       "      <td>15.341940</td>\n",
       "      <td>16.440841</td>\n",
       "      <td>16.206124</td>\n",
       "      <td>6.710765</td>\n",
       "      <td>2.624560</td>\n",
       "      <td>4.214232</td>\n",
       "    </tr>\n",
       "  </tbody>\n",
       "</table>\n",
       "</div>"
      ],
      "text/plain": [
       "           0          1          2          3          4         5         6  \\\n",
       "0  24.506561  18.841353  13.826950  15.576656  14.979196  6.625413  1.611010   \n",
       "1  20.975141  23.098261  15.832711  15.043209  13.997653  6.710765  1.675024   \n",
       "2  26.587005  17.273018  12.930759  13.666916  18.627974  5.665209  1.952417   \n",
       "3  20.004268  18.158540  14.413742  17.144991  15.277926  8.279100  1.514990   \n",
       "4  19.993599  18.467940  15.341940  16.440841  16.206124  6.710765  2.624560   \n",
       "\n",
       "          7  \n",
       "0  4.032860  \n",
       "1  2.667236  \n",
       "2  3.296703  \n",
       "3  5.206444  \n",
       "4  4.214232  "
      ]
     },
     "execution_count": 35,
     "metadata": {},
     "output_type": "execute_result"
    }
   ],
   "source": [
    "counter_L = random_ages_counter(yeast_L_ages, yeast_data, n=10000, classes='LProt')\n",
    "counter_L.head()"
   ]
  },
  {
   "cell_type": "code",
   "execution_count": 37,
   "id": "8964bbfa",
   "metadata": {},
   "outputs": [
    {
     "data": {
      "text/html": [
       "<div>\n",
       "<style scoped>\n",
       "    .dataframe tbody tr th:only-of-type {\n",
       "        vertical-align: middle;\n",
       "    }\n",
       "\n",
       "    .dataframe tbody tr th {\n",
       "        vertical-align: top;\n",
       "    }\n",
       "\n",
       "    .dataframe thead th {\n",
       "        text-align: right;\n",
       "    }\n",
       "</style>\n",
       "<table border=\"1\" class=\"dataframe\">\n",
       "  <thead>\n",
       "    <tr style=\"text-align: right;\">\n",
       "      <th></th>\n",
       "      <th>Tf</th>\n",
       "      <th>Tg</th>\n",
       "      <th>TF_age</th>\n",
       "      <th>Tg_age</th>\n",
       "    </tr>\n",
       "  </thead>\n",
       "  <tbody>\n",
       "    <tr>\n",
       "      <th>0</th>\n",
       "      <td>YAL051W</td>\n",
       "      <td>YAL016W</td>\n",
       "      <td>Saccharomyceta</td>\n",
       "      <td>Eukaryota</td>\n",
       "    </tr>\n",
       "    <tr>\n",
       "      <th>1</th>\n",
       "      <td>YAL051W</td>\n",
       "      <td>YAL034WA</td>\n",
       "      <td>Saccharomyceta</td>\n",
       "      <td>NaN</td>\n",
       "    </tr>\n",
       "    <tr>\n",
       "      <th>2</th>\n",
       "      <td>YAL051W</td>\n",
       "      <td>YAL035CA</td>\n",
       "      <td>Saccharomyceta</td>\n",
       "      <td>NaN</td>\n",
       "    </tr>\n",
       "    <tr>\n",
       "      <th>3</th>\n",
       "      <td>YAL051W</td>\n",
       "      <td>YAL035W</td>\n",
       "      <td>Saccharomyceta</td>\n",
       "      <td>Euk_Archaea</td>\n",
       "    </tr>\n",
       "    <tr>\n",
       "      <th>4</th>\n",
       "      <td>YAL051W</td>\n",
       "      <td>YAL036C</td>\n",
       "      <td>Saccharomyceta</td>\n",
       "      <td>Cellular_organisms</td>\n",
       "    </tr>\n",
       "    <tr>\n",
       "      <th>...</th>\n",
       "      <td>...</td>\n",
       "      <td>...</td>\n",
       "      <td>...</td>\n",
       "      <td>...</td>\n",
       "    </tr>\n",
       "    <tr>\n",
       "      <th>12868</th>\n",
       "      <td>YPR199C</td>\n",
       "      <td>YML048WA</td>\n",
       "      <td>NaN</td>\n",
       "      <td>NaN</td>\n",
       "    </tr>\n",
       "    <tr>\n",
       "      <th>12869</th>\n",
       "      <td>YPR199C</td>\n",
       "      <td>YMR086CA</td>\n",
       "      <td>NaN</td>\n",
       "      <td>NaN</td>\n",
       "    </tr>\n",
       "    <tr>\n",
       "      <th>12870</th>\n",
       "      <td>YPR199C</td>\n",
       "      <td>YMR087W</td>\n",
       "      <td>NaN</td>\n",
       "      <td>Saccharomyceta</td>\n",
       "    </tr>\n",
       "    <tr>\n",
       "      <th>12871</th>\n",
       "      <td>YPR199C</td>\n",
       "      <td>YMR135WA</td>\n",
       "      <td>NaN</td>\n",
       "      <td>NaN</td>\n",
       "    </tr>\n",
       "    <tr>\n",
       "      <th>12872</th>\n",
       "      <td>YPR199C</td>\n",
       "      <td>YMR257C</td>\n",
       "      <td>NaN</td>\n",
       "      <td>NaN</td>\n",
       "    </tr>\n",
       "  </tbody>\n",
       "</table>\n",
       "<p>12873 rows × 4 columns</p>\n",
       "</div>"
      ],
      "text/plain": [
       "            Tf        Tg          TF_age              Tg_age\n",
       "0      YAL051W   YAL016W  Saccharomyceta           Eukaryota\n",
       "1      YAL051W  YAL034WA  Saccharomyceta                 NaN\n",
       "2      YAL051W  YAL035CA  Saccharomyceta                 NaN\n",
       "3      YAL051W   YAL035W  Saccharomyceta         Euk_Archaea\n",
       "4      YAL051W   YAL036C  Saccharomyceta  Cellular_organisms\n",
       "...        ...       ...             ...                 ...\n",
       "12868  YPR199C  YML048WA             NaN                 NaN\n",
       "12869  YPR199C  YMR086CA             NaN                 NaN\n",
       "12870  YPR199C   YMR087W             NaN      Saccharomyceta\n",
       "12871  YPR199C  YMR135WA             NaN                 NaN\n",
       "12872  YPR199C   YMR257C             NaN                 NaN\n",
       "\n",
       "[12873 rows x 4 columns]"
      ]
     },
     "execution_count": 37,
     "metadata": {},
     "output_type": "execute_result"
    }
   ],
   "source": [
    "yeast_data_L"
   ]
  },
  {
   "cell_type": "code",
   "execution_count": 38,
   "id": "92270181",
   "metadata": {},
   "outputs": [],
   "source": [
    "# transform names to numbers\n",
    "classes = ['no info', 'Cellular_organisms', 'Euk_Archaea','Euk+Bac', 'Eukaryota',\n",
    "                   'Opisthokonta', 'Dikarya', 'Ascomycota', 'Saccharomyceta']\n",
    "\n",
    "# Substituting nans with \"no info\"\n",
    "yeast_data_L[['Tg_age', 'TF_age']] = yeast_data_L[['Tg_age', 'TF_age']].replace(np.nan, 'no info')\n",
    "\n",
    "yeast_data_L['Tg_age'] = yeast_data_L['Tg_age'].apply(lambda x: classes.index(x))\n",
    "yeast_data_L['TF_age'] = yeast_data_L['TF_age'].apply(lambda x: classes.index(x))\n",
    "\n",
    "yeast_data_L['age_length'] = np.where((yeast_data_L['TF_age'] == 0) | (yeast_data_L['Tg_age'] == 0),\n",
    "                                       -1,\n",
    "                                       abs(yeast_data_L['TF_age'] - yeast_data_L['Tg_age']))\n",
    "\n",
    "# no info to NAN\n",
    "yeast_data_L['age_length'] = yeast_data_L['age_length'].replace({-1: np.nan})"
   ]
  },
  {
   "cell_type": "code",
   "execution_count": 39,
   "id": "5e522e80",
   "metadata": {},
   "outputs": [],
   "source": [
    "counts_L = pd.DataFrame(yeast_data_L['age_length'].value_counts(normalize=True) * 100)\n",
    "counts_L = counts_L.rename(columns = {'age_length':'0'}).sort_index(ascending=True)"
   ]
  },
  {
   "cell_type": "code",
   "execution_count": 40,
   "id": "4a253744",
   "metadata": {},
   "outputs": [
    {
     "data": {
      "text/html": [
       "<div>\n",
       "<style scoped>\n",
       "    .dataframe tbody tr th:only-of-type {\n",
       "        vertical-align: middle;\n",
       "    }\n",
       "\n",
       "    .dataframe tbody tr th {\n",
       "        vertical-align: top;\n",
       "    }\n",
       "\n",
       "    .dataframe thead th {\n",
       "        text-align: right;\n",
       "    }\n",
       "</style>\n",
       "<table border=\"1\" class=\"dataframe\">\n",
       "  <thead>\n",
       "    <tr style=\"text-align: right;\">\n",
       "      <th></th>\n",
       "      <th>0.0</th>\n",
       "      <th>1.0</th>\n",
       "      <th>2.0</th>\n",
       "      <th>3.0</th>\n",
       "      <th>4.0</th>\n",
       "      <th>5.0</th>\n",
       "      <th>6.0</th>\n",
       "      <th>7.0</th>\n",
       "    </tr>\n",
       "  </thead>\n",
       "  <tbody>\n",
       "    <tr>\n",
       "      <th>0</th>\n",
       "      <td>14.701803</td>\n",
       "      <td>17.977168</td>\n",
       "      <td>18.531953</td>\n",
       "      <td>13.602902</td>\n",
       "      <td>20.174971</td>\n",
       "      <td>8.407127</td>\n",
       "      <td>1.632348</td>\n",
       "      <td>4.971727</td>\n",
       "    </tr>\n",
       "  </tbody>\n",
       "</table>\n",
       "</div>"
      ],
      "text/plain": [
       "         0.0        1.0        2.0        3.0        4.0       5.0       6.0  \\\n",
       "0  14.701803  17.977168  18.531953  13.602902  20.174971  8.407127  1.632348   \n",
       "\n",
       "        7.0  \n",
       "0  4.971727  "
      ]
     },
     "execution_count": 40,
     "metadata": {},
     "output_type": "execute_result"
    }
   ],
   "source": [
    "# GenOrigin\n",
    "counts_L.T"
   ]
  },
  {
   "cell_type": "markdown",
   "id": "b27a9816",
   "metadata": {},
   "source": [
    "## 3.2. Test  results"
   ]
  },
  {
   "cell_type": "code",
   "execution_count": 44,
   "id": "22959bb4",
   "metadata": {},
   "outputs": [
    {
     "data": {
      "image/png": "[encoded data removed]",
      "text/plain": [
       "<Figure size 936x720 with 1 Axes>"
      ]
     },
     "metadata": {},
     "output_type": "display_data"
    }
   ],
   "source": [
    "ax = sns.boxplot(data=counter_L, )\n",
    "ax.scatter(np.arange(counts_L.T.shape[1]), counts_L.T, \n",
    "           marker='x', s=140, color='r')\n",
    "\n",
    "plt.ylabel('%')\n",
    "plt.xlabel('Interaction distance (Protein), yeast')\n",
    "plt.show()"
   ]
  },
  {
   "cell_type": "code",
   "execution_count": 45,
   "id": "2a47a537",
   "metadata": {},
   "outputs": [
    {
     "name": "stdout",
     "output_type": "stream",
     "text": [
      "GenOrigin:\n",
      "0 distance, z-score: -4.579,\tp-value: 0.0 < 0.05 — True\n",
      "1 distance, z-score: -1.045,\tp-value: 0.2959 < 0.05 — False\n",
      "2 distance, z-score: 2.078,\tp-value: 0.0377 < 0.05 — True\n",
      "3 distance, z-score: -1.296,\tp-value: 0.1951 < 0.05 — False\n",
      "4 distance, z-score: 3.335,\tp-value: 0.0009 < 0.05 — True\n",
      "5 distance, z-score: 2.343,\tp-value: 0.0191 < 0.05 — True\n",
      "6 distance, z-score: -0.115,\tp-value: 0.9082 < 0.05 — False\n",
      "7 distance, z-score: 2.064,\tp-value: 0.039 < 0.05 — True\n"
     ]
    }
   ],
   "source": [
    "# mean and sd for distances\n",
    "mean_L = counter_L.mean()\n",
    "sd_L = counter_L.std()\n",
    "\n",
    "print('GenOrigin:')\n",
    "\n",
    "for i in range(counter_L.shape[1]):    \n",
    "    z_score = (counts_L.loc[i][0] - mean_L[i]) / sd_L[i]\n",
    "    n_sided = 2\n",
    "    alpha = stats.norm.sf(abs(z_score)) * n_sided\n",
    "    \n",
    "    print(f'{i} distance, z-score: {round(z_score, 3)},\\tp-value: {round(alpha, 4)} < 0.05 — {alpha < 0.05}')"
   ]
  },
  {
   "cell_type": "code",
   "execution_count": 46,
   "id": "ebcb00a9",
   "metadata": {},
   "outputs": [
    {
     "data": {
      "text/plain": [
       "0    22.629517\n",
       "1    19.761616\n",
       "2    15.349728\n",
       "3    15.306517\n",
       "4    15.342950\n",
       "5     6.440203\n",
       "6     1.681060\n",
       "7     3.488409\n",
       "dtype: float64"
      ]
     },
     "execution_count": 46,
     "metadata": {},
     "output_type": "execute_result"
    }
   ],
   "source": [
    "mean_L"
   ]
  },
  {
   "cell_type": "code",
   "execution_count": null,
   "id": "fa40fb4d",
   "metadata": {},
   "outputs": [],
   "source": []
  }
 ],
 "metadata": {
  "kernelspec": {
   "display_name": "Python 3 (ipykernel)",
   "language": "python",
   "name": "python3"
  },
  "language_info": {
   "codemirror_mode": {
    "name": "ipython",
    "version": 3
   },
   "file_extension": ".py",
   "mimetype": "text/x-python",
   "name": "python",
   "nbconvert_exporter": "python",
   "pygments_lexer": "ipython3",
   "version": "3.10.1"
  }
 },
 "nbformat": 4,
 "nbformat_minor": 5
}
