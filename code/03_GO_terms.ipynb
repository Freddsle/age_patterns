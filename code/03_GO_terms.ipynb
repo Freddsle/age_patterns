{
 "cells": [
  {
   "cell_type": "code",
   "execution_count": 1,
   "id": "309717cf",
   "metadata": {},
   "outputs": [],
   "source": [
    "import networkx as nx\n",
    "import igraph\n",
    "import pandas as pd\n",
    "import pylab as plt"
   ]
  },
  {
   "cell_type": "markdown",
   "id": "a953d40e",
   "metadata": {},
   "source": [
    "# Schlicker similarity для GO terms (Schlicker)\n",
    "Почитать про Schlicker similarity для GO terms (Schlicker et al., 2006).\\\n",
    "Там упоминаются два пакета в R, можно их поставить и попробовать можем ли мы использовать semantic similarity measures о которых они говорят для создания GO classes.\n"
   ]
  },
  {
   "cell_type": "code",
   "execution_count": null,
   "id": "2ae8d290",
   "metadata": {},
   "outputs": [],
   "source": []
  }
 ],
 "metadata": {
  "kernelspec": {
   "display_name": "Python 3 (ipykernel)",
   "language": "python",
   "name": "python3"
  },
  "language_info": {
   "codemirror_mode": {
    "name": "ipython",
    "version": 3
   },
   "file_extension": ".py",
   "mimetype": "text/x-python",
   "name": "python",
   "nbconvert_exporter": "python",
   "pygments_lexer": "ipython3",
   "version": "3.10.2"
  }
 },
 "nbformat": 4,
 "nbformat_minor": 5
}
